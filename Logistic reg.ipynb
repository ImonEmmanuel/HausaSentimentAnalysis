{
 "cells": [
  {
   "cell_type": "code",
   "execution_count": 1,
   "id": "41e46a27",
   "metadata": {},
   "outputs": [],
   "source": [
    "import numpy as np\n",
    "import matplotlib.pyplot as plt\n",
    "import pandas as pd\n",
    "import time"
   ]
  },
  {
   "cell_type": "code",
   "execution_count": 2,
   "id": "aa94dfd3",
   "metadata": {},
   "outputs": [],
   "source": [
    "train=pd.read_csv('Train.csv', delimiter=',')"
   ]
  },
  {
   "cell_type": "code",
   "execution_count": 3,
   "id": "1a2194e0",
   "metadata": {},
   "outputs": [],
   "source": [
    "test=pd.read_csv('Test.csv', delimiter=',')"
   ]
  },
  {
   "cell_type": "code",
   "execution_count": 4,
   "id": "067f4afe",
   "metadata": {},
   "outputs": [
    {
     "data": {
      "text/html": [
       "<div>\n",
       "<style scoped>\n",
       "    .dataframe tbody tr th:only-of-type {\n",
       "        vertical-align: middle;\n",
       "    }\n",
       "\n",
       "    .dataframe tbody tr th {\n",
       "        vertical-align: top;\n",
       "    }\n",
       "\n",
       "    .dataframe thead th {\n",
       "        text-align: right;\n",
       "    }\n",
       "</style>\n",
       "<table border=\"1\" class=\"dataframe\">\n",
       "  <thead>\n",
       "    <tr style=\"text-align: right;\">\n",
       "      <th></th>\n",
       "      <th>id</th>\n",
       "      <th>NewsText</th>\n",
       "      <th>label</th>\n",
       "    </tr>\n",
       "  </thead>\n",
       "  <tbody>\n",
       "    <tr>\n",
       "      <th>0</th>\n",
       "      <td>1553</td>\n",
       "      <td>Sannan ya ringa yin fina-finai a kan matsalol...</td>\n",
       "      <td>1</td>\n",
       "    </tr>\n",
       "    <tr>\n",
       "      <th>1</th>\n",
       "      <td>1059</td>\n",
       "      <td>Karanta cikakken labarin a nan</td>\n",
       "      <td>0</td>\n",
       "    </tr>\n",
       "    <tr>\n",
       "      <th>2</th>\n",
       "      <td>1006</td>\n",
       "      <td>Tuni dai Saudiyya ta ce za ta kaddamar da aiki...</td>\n",
       "      <td>1</td>\n",
       "    </tr>\n",
       "    <tr>\n",
       "      <th>3</th>\n",
       "      <td>1242</td>\n",
       "      <td>Wannan zai hana raguwar darajarsa kamar yadda ...</td>\n",
       "      <td>-1</td>\n",
       "    </tr>\n",
       "    <tr>\n",
       "      <th>4</th>\n",
       "      <td>1221</td>\n",
       "      <td>Ba shi da wata iyaka, ma'ana iya shafukan da z...</td>\n",
       "      <td>0</td>\n",
       "    </tr>\n",
       "  </tbody>\n",
       "</table>\n",
       "</div>"
      ],
      "text/plain": [
       "     id                                           NewsText  label\n",
       "0  1553   Sannan ya ringa yin fina-finai a kan matsalol...      1\n",
       "1  1059                     Karanta cikakken labarin a nan      0\n",
       "2  1006  Tuni dai Saudiyya ta ce za ta kaddamar da aiki...      1\n",
       "3  1242  Wannan zai hana raguwar darajarsa kamar yadda ...     -1\n",
       "4  1221  Ba shi da wata iyaka, ma'ana iya shafukan da z...      0"
      ]
     },
     "execution_count": 4,
     "metadata": {},
     "output_type": "execute_result"
    }
   ],
   "source": [
    "train.head()"
   ]
  },
  {
   "cell_type": "code",
   "execution_count": 5,
   "id": "9aba08b4",
   "metadata": {},
   "outputs": [],
   "source": [
    "#for cleaning the newstext colum\n",
    "def data_remove(df, remove, add):\n",
    "    x_list = []\n",
    "    \n",
    "    for i, df_str in enumerate(df):\n",
    "        if remove in df_str:\n",
    "            new = df_str.replace(remove, add)\n",
    "            x_list.append(new)\n",
    "            print(f'index:{i} Old Data: {df_str}')\n",
    "            print(f'New Data: {new}')\n",
    "        else:\n",
    "            x_list.append(df_str)\n",
    "            \n",
    "    return x_list"
   ]
  },
  {
   "cell_type": "code",
   "execution_count": 6,
   "id": "df68648b",
   "metadata": {},
   "outputs": [
    {
     "name": "stdout",
     "output_type": "stream",
     "text": [
      "index:57 Old Data: Bankin Duniya zai tallafa wa Najeriya da biliyan ₦150 don haɓaka lantarki\n",
      "New Data: Bankin Duniya zai tallafa wa Najeriya da biliyan 150 don haɓaka lantarki\n"
     ]
    }
   ],
   "source": [
    "train['NewsText'] = data_remove(train['NewsText'],remove = '₦', add = '' )"
   ]
  },
  {
   "cell_type": "code",
   "execution_count": 7,
   "id": "337a4c90",
   "metadata": {},
   "outputs": [
    {
     "name": "stdout",
     "output_type": "stream",
     "text": [
      "index:78 Old Data:  Don amfani da Bitcoins, matakin farko shi ne bude abin da ake kira 'wallet' ko lalita (wadda ke iya zama a intanet ko a manhajar waya ko a wata na'ura mai tsaro)\n",
      "New Data:  Don amfani da Bitcoins, matakin farko shi ne bude abin da ake kira 'wallet' ko lalita (wadda ke iya zama a intanet ko a manhajar waya ko a wata na'ura mai tsaro\n"
     ]
    }
   ],
   "source": [
    "train['NewsText'] = data_remove(train['NewsText'],remove = ')', add = '' )"
   ]
  },
  {
   "cell_type": "code",
   "execution_count": 8,
   "id": "915ff24e",
   "metadata": {},
   "outputs": [
    {
     "name": "stdout",
     "output_type": "stream",
     "text": [
      "index:78 Old Data:  Don amfani da Bitcoins, matakin farko shi ne bude abin da ake kira 'wallet' ko lalita (wadda ke iya zama a intanet ko a manhajar waya ko a wata na'ura mai tsaro\n",
      "New Data:  Don amfani da Bitcoins, matakin farko shi ne bude abin da ake kira 'wallet' ko lalita wadda ke iya zama a intanet ko a manhajar waya ko a wata na'ura mai tsaro\n"
     ]
    }
   ],
   "source": [
    "train['NewsText'] = data_remove(train['NewsText'],remove = '(', add = '' )"
   ]
  },
  {
   "cell_type": "code",
   "execution_count": 9,
   "id": "07644dc4",
   "metadata": {},
   "outputs": [],
   "source": [
    "from sklearn.feature_extraction.text import CountVectorizer, TfidfTransformer, TfidfVectorizer\n",
    "from sklearn.model_selection import StratifiedKFold"
   ]
  },
  {
   "cell_type": "code",
   "execution_count": 62,
   "id": "80f29dfa",
   "metadata": {},
   "outputs": [],
   "source": [
    "cv = CountVectorizer()\n",
    "tv = TfidfVectorizer(token_pattern='(?u)\\\\b\\\\w+\\\\b')\n",
    "tfd = TfidfTransformer()"
   ]
  },
  {
   "cell_type": "code",
   "execution_count": 11,
   "id": "9a572b54",
   "metadata": {},
   "outputs": [],
   "source": [
    "arr = np.array(train['NewsText'][0], dtype = 'object')"
   ]
  },
  {
   "cell_type": "code",
   "execution_count": 12,
   "id": "a11698f1",
   "metadata": {},
   "outputs": [],
   "source": [
    "#tfd.fit_transform(tv.fit_transform(train['NewsText']).toarray()).toarray()\n",
    "\n",
    "tfd_data = tv.fit(train['NewsText'])"
   ]
  },
  {
   "cell_type": "code",
   "execution_count": 13,
   "id": "5b217914",
   "metadata": {},
   "outputs": [],
   "source": [
    "words = tfd_data.get_feature_names()"
   ]
  },
  {
   "cell_type": "code",
   "execution_count": 14,
   "id": "60ef5c31",
   "metadata": {},
   "outputs": [
    {
     "data": {
      "text/plain": [
       "1416"
      ]
     },
     "execution_count": 14,
     "metadata": {},
     "output_type": "execute_result"
    }
   ],
   "source": [
    "len(words)"
   ]
  },
  {
   "cell_type": "code",
   "execution_count": 15,
   "id": "2b1ab71d",
   "metadata": {},
   "outputs": [
    {
     "data": {
      "text/plain": [
       "array(['ƙuri', 'ƙwararan', 'ƴan', 'ƴar', 'ƴaƴana', 'ɓalle', 'ɓangare',\n",
       "       'ɓullar', 'ɓullarta', 'ɓullo', 'ɗaki', 'ɗalibai', 'ɗan', 'ɗare',\n",
       "       'ɗaruruwan', 'ɗaukar', 'ɗauke', 'ɗaya', 'ɗayan', 'ɗokin'],\n",
       "      dtype='<U9')"
      ]
     },
     "execution_count": 15,
     "metadata": {},
     "output_type": "execute_result"
    }
   ],
   "source": [
    "np.array(words[-20:])"
   ]
  },
  {
   "cell_type": "markdown",
   "id": "b6fa0a42",
   "metadata": {},
   "source": [
    "<b> Since hausa dataset do not have a stop word or i dont know of any so i could not try to create stop word feature list and work on some technique</b>"
   ]
  },
  {
   "cell_type": "markdown",
   "id": "8ddf7eb8",
   "metadata": {},
   "source": [
    "## Modelling"
   ]
  },
  {
   "cell_type": "code",
   "execution_count": 16,
   "id": "b952a8c7",
   "metadata": {},
   "outputs": [],
   "source": [
    "def transform(data, details):\n",
    "    # 0 == -1 , 1 == 0, 2 == 1\n",
    "    \n",
    "    x = []\n",
    "    if details == 'encode':\n",
    "        for v, i in enumerate(data):\n",
    "            if i == -1: x.append(0)\n",
    "            elif i == 0: x.append(1)\n",
    "            else: x.append(2)\n",
    "    else:\n",
    "        for v, i in enumerate(data):\n",
    "            if i == 0: x.append(-1)\n",
    "            elif i == 1: x.append(0)\n",
    "            else: x.append(1)\n",
    "                           \n",
    "    return x"
   ]
  },
  {
   "cell_type": "code",
   "execution_count": 17,
   "id": "b2f0844b",
   "metadata": {},
   "outputs": [],
   "source": [
    "y = train['label'].values"
   ]
  },
  {
   "cell_type": "code",
   "execution_count": 18,
   "id": "2b8459ed",
   "metadata": {},
   "outputs": [],
   "source": [
    "from sklearn.ensemble import RandomForestClassifier, GradientBoostingClassifier, StackingClassifier\n",
    "from sklearn.linear_model import LogisticRegression\n",
    "from sklearn.naive_bayes import BernoulliNB, MultinomialNB\n",
    "from xgboost import XGBClassifier\n",
    "\n",
    "from sklearn.model_selection import train_test_split, StratifiedKFold,cross_val_predict, RepeatedStratifiedKFold\n",
    "from sklearn.model_selection import cross_validate, cross_val_score, GridSearchCV, RandomizedSearchCV"
   ]
  },
  {
   "cell_type": "code",
   "execution_count": 19,
   "id": "66d4c6d2",
   "metadata": {},
   "outputs": [],
   "source": [
    "str_kf = StratifiedKFold(n_splits=5, shuffle = True, random_state = 1) \n",
    "skf = RepeatedStratifiedKFold(n_splits=5, n_repeats=3, random_state=1)"
   ]
  },
  {
   "cell_type": "code",
   "execution_count": 20,
   "id": "787acd03",
   "metadata": {},
   "outputs": [],
   "source": [
    "def model_func(data, tar):\n",
    "    models = [RandomForestClassifier, LogisticRegression, BernoulliNB, MultinomialNB, XGBClassifier]\n",
    "\n",
    "    for model in models:\n",
    "        scores = cross_val_score(estimator=model(), X=data, y=tar, cv=skf, n_jobs=-1, scoring='accuracy')\n",
    "        print(model.__name__, '---- Validation Results --->' , scores.mean())\n",
    "        print('______')"
   ]
  },
  {
   "cell_type": "code",
   "execution_count": 21,
   "id": "3cbaf9a8",
   "metadata": {
    "scrolled": true
   },
   "outputs": [
    {
     "name": "stdout",
     "output_type": "stream",
     "text": [
      "RandomForestClassifier ---- Validation Results ---> 0.5555555555555555\n",
      "______\n",
      "LogisticRegression ---- Validation Results ---> 0.611111111111111\n",
      "______\n",
      "BernoulliNB ---- Validation Results ---> 0.5888888888888888\n",
      "______\n",
      "MultinomialNB ---- Validation Results ---> 0.6180555555555555\n",
      "______\n"
     ]
    },
    {
     "ename": "KeyboardInterrupt",
     "evalue": "",
     "output_type": "error",
     "traceback": [
      "\u001b[1;31m---------------------------------------------------------------------------\u001b[0m",
      "\u001b[1;31mKeyboardInterrupt\u001b[0m                         Traceback (most recent call last)",
      "\u001b[1;32m~\\AppData\\Local\\Temp/ipykernel_11316/3858918018.py\u001b[0m in \u001b[0;36m<module>\u001b[1;34m\u001b[0m\n\u001b[0;32m      1\u001b[0m \u001b[1;31m#TfidfVectorizer\u001b[0m\u001b[1;33m\u001b[0m\u001b[1;33m\u001b[0m\u001b[0m\n\u001b[0;32m      2\u001b[0m \u001b[1;33m\u001b[0m\u001b[0m\n\u001b[1;32m----> 3\u001b[1;33m \u001b[0mmodel_func\u001b[0m\u001b[1;33m(\u001b[0m\u001b[0mdata\u001b[0m \u001b[1;33m=\u001b[0m \u001b[0mtv\u001b[0m\u001b[1;33m.\u001b[0m\u001b[0mfit_transform\u001b[0m\u001b[1;33m(\u001b[0m\u001b[0mtrain\u001b[0m\u001b[1;33m[\u001b[0m\u001b[1;34m'NewsText'\u001b[0m\u001b[1;33m]\u001b[0m\u001b[1;33m)\u001b[0m\u001b[1;33m,\u001b[0m \u001b[0mtar\u001b[0m \u001b[1;33m=\u001b[0m \u001b[0mtransform\u001b[0m\u001b[1;33m(\u001b[0m\u001b[0my\u001b[0m\u001b[1;33m,\u001b[0m \u001b[0mdetails\u001b[0m \u001b[1;33m=\u001b[0m \u001b[1;34m'encode'\u001b[0m\u001b[1;33m)\u001b[0m\u001b[1;33m)\u001b[0m\u001b[1;33m\u001b[0m\u001b[1;33m\u001b[0m\u001b[0m\n\u001b[0m",
      "\u001b[1;32m~\\AppData\\Local\\Temp/ipykernel_11316/199850202.py\u001b[0m in \u001b[0;36mmodel_func\u001b[1;34m(data, tar)\u001b[0m\n\u001b[0;32m      3\u001b[0m \u001b[1;33m\u001b[0m\u001b[0m\n\u001b[0;32m      4\u001b[0m     \u001b[1;32mfor\u001b[0m \u001b[0mmodel\u001b[0m \u001b[1;32min\u001b[0m \u001b[0mmodels\u001b[0m\u001b[1;33m:\u001b[0m\u001b[1;33m\u001b[0m\u001b[1;33m\u001b[0m\u001b[0m\n\u001b[1;32m----> 5\u001b[1;33m         \u001b[0mscores\u001b[0m \u001b[1;33m=\u001b[0m \u001b[0mcross_val_score\u001b[0m\u001b[1;33m(\u001b[0m\u001b[0mestimator\u001b[0m\u001b[1;33m=\u001b[0m\u001b[0mmodel\u001b[0m\u001b[1;33m(\u001b[0m\u001b[1;33m)\u001b[0m\u001b[1;33m,\u001b[0m \u001b[0mX\u001b[0m\u001b[1;33m=\u001b[0m\u001b[0mdata\u001b[0m\u001b[1;33m,\u001b[0m \u001b[0my\u001b[0m\u001b[1;33m=\u001b[0m\u001b[0mtar\u001b[0m\u001b[1;33m,\u001b[0m \u001b[0mcv\u001b[0m\u001b[1;33m=\u001b[0m\u001b[0mskf\u001b[0m\u001b[1;33m,\u001b[0m \u001b[0mn_jobs\u001b[0m\u001b[1;33m=\u001b[0m\u001b[1;33m-\u001b[0m\u001b[1;36m1\u001b[0m\u001b[1;33m,\u001b[0m \u001b[0mscoring\u001b[0m\u001b[1;33m=\u001b[0m\u001b[1;34m'accuracy'\u001b[0m\u001b[1;33m)\u001b[0m\u001b[1;33m\u001b[0m\u001b[1;33m\u001b[0m\u001b[0m\n\u001b[0m\u001b[0;32m      6\u001b[0m         \u001b[0mprint\u001b[0m\u001b[1;33m(\u001b[0m\u001b[0mmodel\u001b[0m\u001b[1;33m.\u001b[0m\u001b[0m__name__\u001b[0m\u001b[1;33m,\u001b[0m \u001b[1;34m'---- Validation Results --->'\u001b[0m \u001b[1;33m,\u001b[0m \u001b[0mscores\u001b[0m\u001b[1;33m.\u001b[0m\u001b[0mmean\u001b[0m\u001b[1;33m(\u001b[0m\u001b[1;33m)\u001b[0m\u001b[1;33m)\u001b[0m\u001b[1;33m\u001b[0m\u001b[1;33m\u001b[0m\u001b[0m\n\u001b[0;32m      7\u001b[0m         \u001b[0mprint\u001b[0m\u001b[1;33m(\u001b[0m\u001b[1;34m'______'\u001b[0m\u001b[1;33m)\u001b[0m\u001b[1;33m\u001b[0m\u001b[1;33m\u001b[0m\u001b[0m\n",
      "\u001b[1;32mC:\\ProgramData\\Anaconda3\\lib\\site-packages\\sklearn\\utils\\validation.py\u001b[0m in \u001b[0;36minner_f\u001b[1;34m(*args, **kwargs)\u001b[0m\n\u001b[0;32m     61\u001b[0m             \u001b[0mextra_args\u001b[0m \u001b[1;33m=\u001b[0m \u001b[0mlen\u001b[0m\u001b[1;33m(\u001b[0m\u001b[0margs\u001b[0m\u001b[1;33m)\u001b[0m \u001b[1;33m-\u001b[0m \u001b[0mlen\u001b[0m\u001b[1;33m(\u001b[0m\u001b[0mall_args\u001b[0m\u001b[1;33m)\u001b[0m\u001b[1;33m\u001b[0m\u001b[1;33m\u001b[0m\u001b[0m\n\u001b[0;32m     62\u001b[0m             \u001b[1;32mif\u001b[0m \u001b[0mextra_args\u001b[0m \u001b[1;33m<=\u001b[0m \u001b[1;36m0\u001b[0m\u001b[1;33m:\u001b[0m\u001b[1;33m\u001b[0m\u001b[1;33m\u001b[0m\u001b[0m\n\u001b[1;32m---> 63\u001b[1;33m                 \u001b[1;32mreturn\u001b[0m \u001b[0mf\u001b[0m\u001b[1;33m(\u001b[0m\u001b[1;33m*\u001b[0m\u001b[0margs\u001b[0m\u001b[1;33m,\u001b[0m \u001b[1;33m**\u001b[0m\u001b[0mkwargs\u001b[0m\u001b[1;33m)\u001b[0m\u001b[1;33m\u001b[0m\u001b[1;33m\u001b[0m\u001b[0m\n\u001b[0m\u001b[0;32m     64\u001b[0m \u001b[1;33m\u001b[0m\u001b[0m\n\u001b[0;32m     65\u001b[0m             \u001b[1;31m# extra_args > 0\u001b[0m\u001b[1;33m\u001b[0m\u001b[1;33m\u001b[0m\u001b[0m\n",
      "\u001b[1;32mC:\\ProgramData\\Anaconda3\\lib\\site-packages\\sklearn\\model_selection\\_validation.py\u001b[0m in \u001b[0;36mcross_val_score\u001b[1;34m(estimator, X, y, groups, scoring, cv, n_jobs, verbose, fit_params, pre_dispatch, error_score)\u001b[0m\n\u001b[0;32m    443\u001b[0m     \u001b[0mscorer\u001b[0m \u001b[1;33m=\u001b[0m \u001b[0mcheck_scoring\u001b[0m\u001b[1;33m(\u001b[0m\u001b[0mestimator\u001b[0m\u001b[1;33m,\u001b[0m \u001b[0mscoring\u001b[0m\u001b[1;33m=\u001b[0m\u001b[0mscoring\u001b[0m\u001b[1;33m)\u001b[0m\u001b[1;33m\u001b[0m\u001b[1;33m\u001b[0m\u001b[0m\n\u001b[0;32m    444\u001b[0m \u001b[1;33m\u001b[0m\u001b[0m\n\u001b[1;32m--> 445\u001b[1;33m     cv_results = cross_validate(estimator=estimator, X=X, y=y, groups=groups,\n\u001b[0m\u001b[0;32m    446\u001b[0m                                 \u001b[0mscoring\u001b[0m\u001b[1;33m=\u001b[0m\u001b[1;33m{\u001b[0m\u001b[1;34m'score'\u001b[0m\u001b[1;33m:\u001b[0m \u001b[0mscorer\u001b[0m\u001b[1;33m}\u001b[0m\u001b[1;33m,\u001b[0m \u001b[0mcv\u001b[0m\u001b[1;33m=\u001b[0m\u001b[0mcv\u001b[0m\u001b[1;33m,\u001b[0m\u001b[1;33m\u001b[0m\u001b[1;33m\u001b[0m\u001b[0m\n\u001b[0;32m    447\u001b[0m                                 \u001b[0mn_jobs\u001b[0m\u001b[1;33m=\u001b[0m\u001b[0mn_jobs\u001b[0m\u001b[1;33m,\u001b[0m \u001b[0mverbose\u001b[0m\u001b[1;33m=\u001b[0m\u001b[0mverbose\u001b[0m\u001b[1;33m,\u001b[0m\u001b[1;33m\u001b[0m\u001b[1;33m\u001b[0m\u001b[0m\n",
      "\u001b[1;32mC:\\ProgramData\\Anaconda3\\lib\\site-packages\\sklearn\\utils\\validation.py\u001b[0m in \u001b[0;36minner_f\u001b[1;34m(*args, **kwargs)\u001b[0m\n\u001b[0;32m     61\u001b[0m             \u001b[0mextra_args\u001b[0m \u001b[1;33m=\u001b[0m \u001b[0mlen\u001b[0m\u001b[1;33m(\u001b[0m\u001b[0margs\u001b[0m\u001b[1;33m)\u001b[0m \u001b[1;33m-\u001b[0m \u001b[0mlen\u001b[0m\u001b[1;33m(\u001b[0m\u001b[0mall_args\u001b[0m\u001b[1;33m)\u001b[0m\u001b[1;33m\u001b[0m\u001b[1;33m\u001b[0m\u001b[0m\n\u001b[0;32m     62\u001b[0m             \u001b[1;32mif\u001b[0m \u001b[0mextra_args\u001b[0m \u001b[1;33m<=\u001b[0m \u001b[1;36m0\u001b[0m\u001b[1;33m:\u001b[0m\u001b[1;33m\u001b[0m\u001b[1;33m\u001b[0m\u001b[0m\n\u001b[1;32m---> 63\u001b[1;33m                 \u001b[1;32mreturn\u001b[0m \u001b[0mf\u001b[0m\u001b[1;33m(\u001b[0m\u001b[1;33m*\u001b[0m\u001b[0margs\u001b[0m\u001b[1;33m,\u001b[0m \u001b[1;33m**\u001b[0m\u001b[0mkwargs\u001b[0m\u001b[1;33m)\u001b[0m\u001b[1;33m\u001b[0m\u001b[1;33m\u001b[0m\u001b[0m\n\u001b[0m\u001b[0;32m     64\u001b[0m \u001b[1;33m\u001b[0m\u001b[0m\n\u001b[0;32m     65\u001b[0m             \u001b[1;31m# extra_args > 0\u001b[0m\u001b[1;33m\u001b[0m\u001b[1;33m\u001b[0m\u001b[0m\n",
      "\u001b[1;32mC:\\ProgramData\\Anaconda3\\lib\\site-packages\\sklearn\\model_selection\\_validation.py\u001b[0m in \u001b[0;36mcross_validate\u001b[1;34m(estimator, X, y, groups, scoring, cv, n_jobs, verbose, fit_params, pre_dispatch, return_train_score, return_estimator, error_score)\u001b[0m\n\u001b[0;32m    248\u001b[0m     parallel = Parallel(n_jobs=n_jobs, verbose=verbose,\n\u001b[0;32m    249\u001b[0m                         pre_dispatch=pre_dispatch)\n\u001b[1;32m--> 250\u001b[1;33m     results = parallel(\n\u001b[0m\u001b[0;32m    251\u001b[0m         delayed(_fit_and_score)(\n\u001b[0;32m    252\u001b[0m             \u001b[0mclone\u001b[0m\u001b[1;33m(\u001b[0m\u001b[0mestimator\u001b[0m\u001b[1;33m)\u001b[0m\u001b[1;33m,\u001b[0m \u001b[0mX\u001b[0m\u001b[1;33m,\u001b[0m \u001b[0my\u001b[0m\u001b[1;33m,\u001b[0m \u001b[0mscorers\u001b[0m\u001b[1;33m,\u001b[0m \u001b[0mtrain\u001b[0m\u001b[1;33m,\u001b[0m \u001b[0mtest\u001b[0m\u001b[1;33m,\u001b[0m \u001b[0mverbose\u001b[0m\u001b[1;33m,\u001b[0m \u001b[1;32mNone\u001b[0m\u001b[1;33m,\u001b[0m\u001b[1;33m\u001b[0m\u001b[1;33m\u001b[0m\u001b[0m\n",
      "\u001b[1;32mC:\\ProgramData\\Anaconda3\\lib\\site-packages\\joblib\\parallel.py\u001b[0m in \u001b[0;36m__call__\u001b[1;34m(self, iterable)\u001b[0m\n\u001b[0;32m   1054\u001b[0m \u001b[1;33m\u001b[0m\u001b[0m\n\u001b[0;32m   1055\u001b[0m             \u001b[1;32mwith\u001b[0m \u001b[0mself\u001b[0m\u001b[1;33m.\u001b[0m\u001b[0m_backend\u001b[0m\u001b[1;33m.\u001b[0m\u001b[0mretrieval_context\u001b[0m\u001b[1;33m(\u001b[0m\u001b[1;33m)\u001b[0m\u001b[1;33m:\u001b[0m\u001b[1;33m\u001b[0m\u001b[1;33m\u001b[0m\u001b[0m\n\u001b[1;32m-> 1056\u001b[1;33m                 \u001b[0mself\u001b[0m\u001b[1;33m.\u001b[0m\u001b[0mretrieve\u001b[0m\u001b[1;33m(\u001b[0m\u001b[1;33m)\u001b[0m\u001b[1;33m\u001b[0m\u001b[1;33m\u001b[0m\u001b[0m\n\u001b[0m\u001b[0;32m   1057\u001b[0m             \u001b[1;31m# Make sure that we get a last message telling us we are done\u001b[0m\u001b[1;33m\u001b[0m\u001b[1;33m\u001b[0m\u001b[0m\n\u001b[0;32m   1058\u001b[0m             \u001b[0melapsed_time\u001b[0m \u001b[1;33m=\u001b[0m \u001b[0mtime\u001b[0m\u001b[1;33m.\u001b[0m\u001b[0mtime\u001b[0m\u001b[1;33m(\u001b[0m\u001b[1;33m)\u001b[0m \u001b[1;33m-\u001b[0m \u001b[0mself\u001b[0m\u001b[1;33m.\u001b[0m\u001b[0m_start_time\u001b[0m\u001b[1;33m\u001b[0m\u001b[1;33m\u001b[0m\u001b[0m\n",
      "\u001b[1;32mC:\\ProgramData\\Anaconda3\\lib\\site-packages\\joblib\\parallel.py\u001b[0m in \u001b[0;36mretrieve\u001b[1;34m(self)\u001b[0m\n\u001b[0;32m    933\u001b[0m             \u001b[1;32mtry\u001b[0m\u001b[1;33m:\u001b[0m\u001b[1;33m\u001b[0m\u001b[1;33m\u001b[0m\u001b[0m\n\u001b[0;32m    934\u001b[0m                 \u001b[1;32mif\u001b[0m \u001b[0mgetattr\u001b[0m\u001b[1;33m(\u001b[0m\u001b[0mself\u001b[0m\u001b[1;33m.\u001b[0m\u001b[0m_backend\u001b[0m\u001b[1;33m,\u001b[0m \u001b[1;34m'supports_timeout'\u001b[0m\u001b[1;33m,\u001b[0m \u001b[1;32mFalse\u001b[0m\u001b[1;33m)\u001b[0m\u001b[1;33m:\u001b[0m\u001b[1;33m\u001b[0m\u001b[1;33m\u001b[0m\u001b[0m\n\u001b[1;32m--> 935\u001b[1;33m                     \u001b[0mself\u001b[0m\u001b[1;33m.\u001b[0m\u001b[0m_output\u001b[0m\u001b[1;33m.\u001b[0m\u001b[0mextend\u001b[0m\u001b[1;33m(\u001b[0m\u001b[0mjob\u001b[0m\u001b[1;33m.\u001b[0m\u001b[0mget\u001b[0m\u001b[1;33m(\u001b[0m\u001b[0mtimeout\u001b[0m\u001b[1;33m=\u001b[0m\u001b[0mself\u001b[0m\u001b[1;33m.\u001b[0m\u001b[0mtimeout\u001b[0m\u001b[1;33m)\u001b[0m\u001b[1;33m)\u001b[0m\u001b[1;33m\u001b[0m\u001b[1;33m\u001b[0m\u001b[0m\n\u001b[0m\u001b[0;32m    936\u001b[0m                 \u001b[1;32melse\u001b[0m\u001b[1;33m:\u001b[0m\u001b[1;33m\u001b[0m\u001b[1;33m\u001b[0m\u001b[0m\n\u001b[0;32m    937\u001b[0m                     \u001b[0mself\u001b[0m\u001b[1;33m.\u001b[0m\u001b[0m_output\u001b[0m\u001b[1;33m.\u001b[0m\u001b[0mextend\u001b[0m\u001b[1;33m(\u001b[0m\u001b[0mjob\u001b[0m\u001b[1;33m.\u001b[0m\u001b[0mget\u001b[0m\u001b[1;33m(\u001b[0m\u001b[1;33m)\u001b[0m\u001b[1;33m)\u001b[0m\u001b[1;33m\u001b[0m\u001b[1;33m\u001b[0m\u001b[0m\n",
      "\u001b[1;32mC:\\ProgramData\\Anaconda3\\lib\\site-packages\\joblib\\_parallel_backends.py\u001b[0m in \u001b[0;36mwrap_future_result\u001b[1;34m(future, timeout)\u001b[0m\n\u001b[0;32m    540\u001b[0m         AsyncResults.get from multiprocessing.\"\"\"\n\u001b[0;32m    541\u001b[0m         \u001b[1;32mtry\u001b[0m\u001b[1;33m:\u001b[0m\u001b[1;33m\u001b[0m\u001b[1;33m\u001b[0m\u001b[0m\n\u001b[1;32m--> 542\u001b[1;33m             \u001b[1;32mreturn\u001b[0m \u001b[0mfuture\u001b[0m\u001b[1;33m.\u001b[0m\u001b[0mresult\u001b[0m\u001b[1;33m(\u001b[0m\u001b[0mtimeout\u001b[0m\u001b[1;33m=\u001b[0m\u001b[0mtimeout\u001b[0m\u001b[1;33m)\u001b[0m\u001b[1;33m\u001b[0m\u001b[1;33m\u001b[0m\u001b[0m\n\u001b[0m\u001b[0;32m    543\u001b[0m         \u001b[1;32mexcept\u001b[0m \u001b[0mCfTimeoutError\u001b[0m \u001b[1;32mas\u001b[0m \u001b[0me\u001b[0m\u001b[1;33m:\u001b[0m\u001b[1;33m\u001b[0m\u001b[1;33m\u001b[0m\u001b[0m\n\u001b[0;32m    544\u001b[0m             \u001b[1;32mraise\u001b[0m \u001b[0mTimeoutError\u001b[0m \u001b[1;32mfrom\u001b[0m \u001b[0me\u001b[0m\u001b[1;33m\u001b[0m\u001b[1;33m\u001b[0m\u001b[0m\n",
      "\u001b[1;32mC:\\ProgramData\\Anaconda3\\lib\\concurrent\\futures\\_base.py\u001b[0m in \u001b[0;36mresult\u001b[1;34m(self, timeout)\u001b[0m\n\u001b[0;32m    438\u001b[0m                     \u001b[1;32mreturn\u001b[0m \u001b[0mself\u001b[0m\u001b[1;33m.\u001b[0m\u001b[0m__get_result\u001b[0m\u001b[1;33m(\u001b[0m\u001b[1;33m)\u001b[0m\u001b[1;33m\u001b[0m\u001b[1;33m\u001b[0m\u001b[0m\n\u001b[0;32m    439\u001b[0m \u001b[1;33m\u001b[0m\u001b[0m\n\u001b[1;32m--> 440\u001b[1;33m                 \u001b[0mself\u001b[0m\u001b[1;33m.\u001b[0m\u001b[0m_condition\u001b[0m\u001b[1;33m.\u001b[0m\u001b[0mwait\u001b[0m\u001b[1;33m(\u001b[0m\u001b[0mtimeout\u001b[0m\u001b[1;33m)\u001b[0m\u001b[1;33m\u001b[0m\u001b[1;33m\u001b[0m\u001b[0m\n\u001b[0m\u001b[0;32m    441\u001b[0m \u001b[1;33m\u001b[0m\u001b[0m\n\u001b[0;32m    442\u001b[0m                 \u001b[1;32mif\u001b[0m \u001b[0mself\u001b[0m\u001b[1;33m.\u001b[0m\u001b[0m_state\u001b[0m \u001b[1;32min\u001b[0m \u001b[1;33m[\u001b[0m\u001b[0mCANCELLED\u001b[0m\u001b[1;33m,\u001b[0m \u001b[0mCANCELLED_AND_NOTIFIED\u001b[0m\u001b[1;33m]\u001b[0m\u001b[1;33m:\u001b[0m\u001b[1;33m\u001b[0m\u001b[1;33m\u001b[0m\u001b[0m\n",
      "\u001b[1;32mC:\\ProgramData\\Anaconda3\\lib\\threading.py\u001b[0m in \u001b[0;36mwait\u001b[1;34m(self, timeout)\u001b[0m\n\u001b[0;32m    310\u001b[0m         \u001b[1;32mtry\u001b[0m\u001b[1;33m:\u001b[0m    \u001b[1;31m# restore state no matter what (e.g., KeyboardInterrupt)\u001b[0m\u001b[1;33m\u001b[0m\u001b[1;33m\u001b[0m\u001b[0m\n\u001b[0;32m    311\u001b[0m             \u001b[1;32mif\u001b[0m \u001b[0mtimeout\u001b[0m \u001b[1;32mis\u001b[0m \u001b[1;32mNone\u001b[0m\u001b[1;33m:\u001b[0m\u001b[1;33m\u001b[0m\u001b[1;33m\u001b[0m\u001b[0m\n\u001b[1;32m--> 312\u001b[1;33m                 \u001b[0mwaiter\u001b[0m\u001b[1;33m.\u001b[0m\u001b[0macquire\u001b[0m\u001b[1;33m(\u001b[0m\u001b[1;33m)\u001b[0m\u001b[1;33m\u001b[0m\u001b[1;33m\u001b[0m\u001b[0m\n\u001b[0m\u001b[0;32m    313\u001b[0m                 \u001b[0mgotit\u001b[0m \u001b[1;33m=\u001b[0m \u001b[1;32mTrue\u001b[0m\u001b[1;33m\u001b[0m\u001b[1;33m\u001b[0m\u001b[0m\n\u001b[0;32m    314\u001b[0m             \u001b[1;32melse\u001b[0m\u001b[1;33m:\u001b[0m\u001b[1;33m\u001b[0m\u001b[1;33m\u001b[0m\u001b[0m\n",
      "\u001b[1;31mKeyboardInterrupt\u001b[0m: "
     ]
    }
   ],
   "source": [
    "#TfidfVectorizer\n",
    "\n",
    "model_func(data = tv.fit_transform(train['NewsText']), tar = transform(y, details = 'encode'))"
   ]
  },
  {
   "cell_type": "code",
   "execution_count": 25,
   "id": "1870788e",
   "metadata": {
    "scrolled": true
   },
   "outputs": [
    {
     "name": "stdout",
     "output_type": "stream",
     "text": [
      "RandomForestClassifier ---- Validation Results ---> 0.548611111111111\n",
      "______\n",
      "LogisticRegression ---- Validation Results ---> 0.6013888888888891\n",
      "______\n",
      "BernoulliNB ---- Validation Results ---> 0.5888888888888888\n",
      "______\n",
      "MultinomialNB ---- Validation Results ---> 0.6180555555555556\n",
      "______\n"
     ]
    },
    {
     "ename": "KeyboardInterrupt",
     "evalue": "",
     "output_type": "error",
     "traceback": [
      "\u001b[1;31m---------------------------------------------------------------------------\u001b[0m",
      "\u001b[1;31mKeyboardInterrupt\u001b[0m                         Traceback (most recent call last)",
      "\u001b[1;32m~\\AppData\\Local\\Temp/ipykernel_11316/2856914425.py\u001b[0m in \u001b[0;36m<module>\u001b[1;34m\u001b[0m\n\u001b[0;32m      1\u001b[0m \u001b[1;31m#TfidfTransformer\u001b[0m\u001b[1;33m\u001b[0m\u001b[1;33m\u001b[0m\u001b[0m\n\u001b[0;32m      2\u001b[0m \u001b[1;33m\u001b[0m\u001b[0m\n\u001b[1;32m----> 3\u001b[1;33m \u001b[0mmodel_func\u001b[0m\u001b[1;33m(\u001b[0m\u001b[0mdata\u001b[0m \u001b[1;33m=\u001b[0m \u001b[0mtfd\u001b[0m\u001b[1;33m.\u001b[0m\u001b[0mfit_transform\u001b[0m\u001b[1;33m(\u001b[0m\u001b[0mtv\u001b[0m\u001b[1;33m.\u001b[0m\u001b[0mfit_transform\u001b[0m\u001b[1;33m(\u001b[0m\u001b[0mtrain\u001b[0m\u001b[1;33m[\u001b[0m\u001b[1;34m'NewsText'\u001b[0m\u001b[1;33m]\u001b[0m\u001b[1;33m)\u001b[0m\u001b[1;33m)\u001b[0m\u001b[1;33m,\u001b[0m \u001b[0mtar\u001b[0m \u001b[1;33m=\u001b[0m \u001b[0mtransform\u001b[0m\u001b[1;33m(\u001b[0m\u001b[0my\u001b[0m\u001b[1;33m,\u001b[0m \u001b[0mdetails\u001b[0m \u001b[1;33m=\u001b[0m \u001b[1;34m'encode'\u001b[0m\u001b[1;33m)\u001b[0m\u001b[1;33m)\u001b[0m\u001b[1;33m\u001b[0m\u001b[1;33m\u001b[0m\u001b[0m\n\u001b[0m",
      "\u001b[1;32m~\\AppData\\Local\\Temp/ipykernel_11316/199850202.py\u001b[0m in \u001b[0;36mmodel_func\u001b[1;34m(data, tar)\u001b[0m\n\u001b[0;32m      3\u001b[0m \u001b[1;33m\u001b[0m\u001b[0m\n\u001b[0;32m      4\u001b[0m     \u001b[1;32mfor\u001b[0m \u001b[0mmodel\u001b[0m \u001b[1;32min\u001b[0m \u001b[0mmodels\u001b[0m\u001b[1;33m:\u001b[0m\u001b[1;33m\u001b[0m\u001b[1;33m\u001b[0m\u001b[0m\n\u001b[1;32m----> 5\u001b[1;33m         \u001b[0mscores\u001b[0m \u001b[1;33m=\u001b[0m \u001b[0mcross_val_score\u001b[0m\u001b[1;33m(\u001b[0m\u001b[0mestimator\u001b[0m\u001b[1;33m=\u001b[0m\u001b[0mmodel\u001b[0m\u001b[1;33m(\u001b[0m\u001b[1;33m)\u001b[0m\u001b[1;33m,\u001b[0m \u001b[0mX\u001b[0m\u001b[1;33m=\u001b[0m\u001b[0mdata\u001b[0m\u001b[1;33m,\u001b[0m \u001b[0my\u001b[0m\u001b[1;33m=\u001b[0m\u001b[0mtar\u001b[0m\u001b[1;33m,\u001b[0m \u001b[0mcv\u001b[0m\u001b[1;33m=\u001b[0m\u001b[0mskf\u001b[0m\u001b[1;33m,\u001b[0m \u001b[0mn_jobs\u001b[0m\u001b[1;33m=\u001b[0m\u001b[1;33m-\u001b[0m\u001b[1;36m1\u001b[0m\u001b[1;33m,\u001b[0m \u001b[0mscoring\u001b[0m\u001b[1;33m=\u001b[0m\u001b[1;34m'accuracy'\u001b[0m\u001b[1;33m)\u001b[0m\u001b[1;33m\u001b[0m\u001b[1;33m\u001b[0m\u001b[0m\n\u001b[0m\u001b[0;32m      6\u001b[0m         \u001b[0mprint\u001b[0m\u001b[1;33m(\u001b[0m\u001b[0mmodel\u001b[0m\u001b[1;33m.\u001b[0m\u001b[0m__name__\u001b[0m\u001b[1;33m,\u001b[0m \u001b[1;34m'---- Validation Results --->'\u001b[0m \u001b[1;33m,\u001b[0m \u001b[0mscores\u001b[0m\u001b[1;33m.\u001b[0m\u001b[0mmean\u001b[0m\u001b[1;33m(\u001b[0m\u001b[1;33m)\u001b[0m\u001b[1;33m)\u001b[0m\u001b[1;33m\u001b[0m\u001b[1;33m\u001b[0m\u001b[0m\n\u001b[0;32m      7\u001b[0m         \u001b[0mprint\u001b[0m\u001b[1;33m(\u001b[0m\u001b[1;34m'______'\u001b[0m\u001b[1;33m)\u001b[0m\u001b[1;33m\u001b[0m\u001b[1;33m\u001b[0m\u001b[0m\n",
      "\u001b[1;32mC:\\ProgramData\\Anaconda3\\lib\\site-packages\\sklearn\\utils\\validation.py\u001b[0m in \u001b[0;36minner_f\u001b[1;34m(*args, **kwargs)\u001b[0m\n\u001b[0;32m     61\u001b[0m             \u001b[0mextra_args\u001b[0m \u001b[1;33m=\u001b[0m \u001b[0mlen\u001b[0m\u001b[1;33m(\u001b[0m\u001b[0margs\u001b[0m\u001b[1;33m)\u001b[0m \u001b[1;33m-\u001b[0m \u001b[0mlen\u001b[0m\u001b[1;33m(\u001b[0m\u001b[0mall_args\u001b[0m\u001b[1;33m)\u001b[0m\u001b[1;33m\u001b[0m\u001b[1;33m\u001b[0m\u001b[0m\n\u001b[0;32m     62\u001b[0m             \u001b[1;32mif\u001b[0m \u001b[0mextra_args\u001b[0m \u001b[1;33m<=\u001b[0m \u001b[1;36m0\u001b[0m\u001b[1;33m:\u001b[0m\u001b[1;33m\u001b[0m\u001b[1;33m\u001b[0m\u001b[0m\n\u001b[1;32m---> 63\u001b[1;33m                 \u001b[1;32mreturn\u001b[0m \u001b[0mf\u001b[0m\u001b[1;33m(\u001b[0m\u001b[1;33m*\u001b[0m\u001b[0margs\u001b[0m\u001b[1;33m,\u001b[0m \u001b[1;33m**\u001b[0m\u001b[0mkwargs\u001b[0m\u001b[1;33m)\u001b[0m\u001b[1;33m\u001b[0m\u001b[1;33m\u001b[0m\u001b[0m\n\u001b[0m\u001b[0;32m     64\u001b[0m \u001b[1;33m\u001b[0m\u001b[0m\n\u001b[0;32m     65\u001b[0m             \u001b[1;31m# extra_args > 0\u001b[0m\u001b[1;33m\u001b[0m\u001b[1;33m\u001b[0m\u001b[0m\n",
      "\u001b[1;32mC:\\ProgramData\\Anaconda3\\lib\\site-packages\\sklearn\\model_selection\\_validation.py\u001b[0m in \u001b[0;36mcross_val_score\u001b[1;34m(estimator, X, y, groups, scoring, cv, n_jobs, verbose, fit_params, pre_dispatch, error_score)\u001b[0m\n\u001b[0;32m    443\u001b[0m     \u001b[0mscorer\u001b[0m \u001b[1;33m=\u001b[0m \u001b[0mcheck_scoring\u001b[0m\u001b[1;33m(\u001b[0m\u001b[0mestimator\u001b[0m\u001b[1;33m,\u001b[0m \u001b[0mscoring\u001b[0m\u001b[1;33m=\u001b[0m\u001b[0mscoring\u001b[0m\u001b[1;33m)\u001b[0m\u001b[1;33m\u001b[0m\u001b[1;33m\u001b[0m\u001b[0m\n\u001b[0;32m    444\u001b[0m \u001b[1;33m\u001b[0m\u001b[0m\n\u001b[1;32m--> 445\u001b[1;33m     cv_results = cross_validate(estimator=estimator, X=X, y=y, groups=groups,\n\u001b[0m\u001b[0;32m    446\u001b[0m                                 \u001b[0mscoring\u001b[0m\u001b[1;33m=\u001b[0m\u001b[1;33m{\u001b[0m\u001b[1;34m'score'\u001b[0m\u001b[1;33m:\u001b[0m \u001b[0mscorer\u001b[0m\u001b[1;33m}\u001b[0m\u001b[1;33m,\u001b[0m \u001b[0mcv\u001b[0m\u001b[1;33m=\u001b[0m\u001b[0mcv\u001b[0m\u001b[1;33m,\u001b[0m\u001b[1;33m\u001b[0m\u001b[1;33m\u001b[0m\u001b[0m\n\u001b[0;32m    447\u001b[0m                                 \u001b[0mn_jobs\u001b[0m\u001b[1;33m=\u001b[0m\u001b[0mn_jobs\u001b[0m\u001b[1;33m,\u001b[0m \u001b[0mverbose\u001b[0m\u001b[1;33m=\u001b[0m\u001b[0mverbose\u001b[0m\u001b[1;33m,\u001b[0m\u001b[1;33m\u001b[0m\u001b[1;33m\u001b[0m\u001b[0m\n",
      "\u001b[1;32mC:\\ProgramData\\Anaconda3\\lib\\site-packages\\sklearn\\utils\\validation.py\u001b[0m in \u001b[0;36minner_f\u001b[1;34m(*args, **kwargs)\u001b[0m\n\u001b[0;32m     61\u001b[0m             \u001b[0mextra_args\u001b[0m \u001b[1;33m=\u001b[0m \u001b[0mlen\u001b[0m\u001b[1;33m(\u001b[0m\u001b[0margs\u001b[0m\u001b[1;33m)\u001b[0m \u001b[1;33m-\u001b[0m \u001b[0mlen\u001b[0m\u001b[1;33m(\u001b[0m\u001b[0mall_args\u001b[0m\u001b[1;33m)\u001b[0m\u001b[1;33m\u001b[0m\u001b[1;33m\u001b[0m\u001b[0m\n\u001b[0;32m     62\u001b[0m             \u001b[1;32mif\u001b[0m \u001b[0mextra_args\u001b[0m \u001b[1;33m<=\u001b[0m \u001b[1;36m0\u001b[0m\u001b[1;33m:\u001b[0m\u001b[1;33m\u001b[0m\u001b[1;33m\u001b[0m\u001b[0m\n\u001b[1;32m---> 63\u001b[1;33m                 \u001b[1;32mreturn\u001b[0m \u001b[0mf\u001b[0m\u001b[1;33m(\u001b[0m\u001b[1;33m*\u001b[0m\u001b[0margs\u001b[0m\u001b[1;33m,\u001b[0m \u001b[1;33m**\u001b[0m\u001b[0mkwargs\u001b[0m\u001b[1;33m)\u001b[0m\u001b[1;33m\u001b[0m\u001b[1;33m\u001b[0m\u001b[0m\n\u001b[0m\u001b[0;32m     64\u001b[0m \u001b[1;33m\u001b[0m\u001b[0m\n\u001b[0;32m     65\u001b[0m             \u001b[1;31m# extra_args > 0\u001b[0m\u001b[1;33m\u001b[0m\u001b[1;33m\u001b[0m\u001b[0m\n",
      "\u001b[1;32mC:\\ProgramData\\Anaconda3\\lib\\site-packages\\sklearn\\model_selection\\_validation.py\u001b[0m in \u001b[0;36mcross_validate\u001b[1;34m(estimator, X, y, groups, scoring, cv, n_jobs, verbose, fit_params, pre_dispatch, return_train_score, return_estimator, error_score)\u001b[0m\n\u001b[0;32m    248\u001b[0m     parallel = Parallel(n_jobs=n_jobs, verbose=verbose,\n\u001b[0;32m    249\u001b[0m                         pre_dispatch=pre_dispatch)\n\u001b[1;32m--> 250\u001b[1;33m     results = parallel(\n\u001b[0m\u001b[0;32m    251\u001b[0m         delayed(_fit_and_score)(\n\u001b[0;32m    252\u001b[0m             \u001b[0mclone\u001b[0m\u001b[1;33m(\u001b[0m\u001b[0mestimator\u001b[0m\u001b[1;33m)\u001b[0m\u001b[1;33m,\u001b[0m \u001b[0mX\u001b[0m\u001b[1;33m,\u001b[0m \u001b[0my\u001b[0m\u001b[1;33m,\u001b[0m \u001b[0mscorers\u001b[0m\u001b[1;33m,\u001b[0m \u001b[0mtrain\u001b[0m\u001b[1;33m,\u001b[0m \u001b[0mtest\u001b[0m\u001b[1;33m,\u001b[0m \u001b[0mverbose\u001b[0m\u001b[1;33m,\u001b[0m \u001b[1;32mNone\u001b[0m\u001b[1;33m,\u001b[0m\u001b[1;33m\u001b[0m\u001b[1;33m\u001b[0m\u001b[0m\n",
      "\u001b[1;32mC:\\ProgramData\\Anaconda3\\lib\\site-packages\\joblib\\parallel.py\u001b[0m in \u001b[0;36m__call__\u001b[1;34m(self, iterable)\u001b[0m\n\u001b[0;32m   1054\u001b[0m \u001b[1;33m\u001b[0m\u001b[0m\n\u001b[0;32m   1055\u001b[0m             \u001b[1;32mwith\u001b[0m \u001b[0mself\u001b[0m\u001b[1;33m.\u001b[0m\u001b[0m_backend\u001b[0m\u001b[1;33m.\u001b[0m\u001b[0mretrieval_context\u001b[0m\u001b[1;33m(\u001b[0m\u001b[1;33m)\u001b[0m\u001b[1;33m:\u001b[0m\u001b[1;33m\u001b[0m\u001b[1;33m\u001b[0m\u001b[0m\n\u001b[1;32m-> 1056\u001b[1;33m                 \u001b[0mself\u001b[0m\u001b[1;33m.\u001b[0m\u001b[0mretrieve\u001b[0m\u001b[1;33m(\u001b[0m\u001b[1;33m)\u001b[0m\u001b[1;33m\u001b[0m\u001b[1;33m\u001b[0m\u001b[0m\n\u001b[0m\u001b[0;32m   1057\u001b[0m             \u001b[1;31m# Make sure that we get a last message telling us we are done\u001b[0m\u001b[1;33m\u001b[0m\u001b[1;33m\u001b[0m\u001b[0m\n\u001b[0;32m   1058\u001b[0m             \u001b[0melapsed_time\u001b[0m \u001b[1;33m=\u001b[0m \u001b[0mtime\u001b[0m\u001b[1;33m.\u001b[0m\u001b[0mtime\u001b[0m\u001b[1;33m(\u001b[0m\u001b[1;33m)\u001b[0m \u001b[1;33m-\u001b[0m \u001b[0mself\u001b[0m\u001b[1;33m.\u001b[0m\u001b[0m_start_time\u001b[0m\u001b[1;33m\u001b[0m\u001b[1;33m\u001b[0m\u001b[0m\n",
      "\u001b[1;32mC:\\ProgramData\\Anaconda3\\lib\\site-packages\\joblib\\parallel.py\u001b[0m in \u001b[0;36mretrieve\u001b[1;34m(self)\u001b[0m\n\u001b[0;32m    933\u001b[0m             \u001b[1;32mtry\u001b[0m\u001b[1;33m:\u001b[0m\u001b[1;33m\u001b[0m\u001b[1;33m\u001b[0m\u001b[0m\n\u001b[0;32m    934\u001b[0m                 \u001b[1;32mif\u001b[0m \u001b[0mgetattr\u001b[0m\u001b[1;33m(\u001b[0m\u001b[0mself\u001b[0m\u001b[1;33m.\u001b[0m\u001b[0m_backend\u001b[0m\u001b[1;33m,\u001b[0m \u001b[1;34m'supports_timeout'\u001b[0m\u001b[1;33m,\u001b[0m \u001b[1;32mFalse\u001b[0m\u001b[1;33m)\u001b[0m\u001b[1;33m:\u001b[0m\u001b[1;33m\u001b[0m\u001b[1;33m\u001b[0m\u001b[0m\n\u001b[1;32m--> 935\u001b[1;33m                     \u001b[0mself\u001b[0m\u001b[1;33m.\u001b[0m\u001b[0m_output\u001b[0m\u001b[1;33m.\u001b[0m\u001b[0mextend\u001b[0m\u001b[1;33m(\u001b[0m\u001b[0mjob\u001b[0m\u001b[1;33m.\u001b[0m\u001b[0mget\u001b[0m\u001b[1;33m(\u001b[0m\u001b[0mtimeout\u001b[0m\u001b[1;33m=\u001b[0m\u001b[0mself\u001b[0m\u001b[1;33m.\u001b[0m\u001b[0mtimeout\u001b[0m\u001b[1;33m)\u001b[0m\u001b[1;33m)\u001b[0m\u001b[1;33m\u001b[0m\u001b[1;33m\u001b[0m\u001b[0m\n\u001b[0m\u001b[0;32m    936\u001b[0m                 \u001b[1;32melse\u001b[0m\u001b[1;33m:\u001b[0m\u001b[1;33m\u001b[0m\u001b[1;33m\u001b[0m\u001b[0m\n\u001b[0;32m    937\u001b[0m                     \u001b[0mself\u001b[0m\u001b[1;33m.\u001b[0m\u001b[0m_output\u001b[0m\u001b[1;33m.\u001b[0m\u001b[0mextend\u001b[0m\u001b[1;33m(\u001b[0m\u001b[0mjob\u001b[0m\u001b[1;33m.\u001b[0m\u001b[0mget\u001b[0m\u001b[1;33m(\u001b[0m\u001b[1;33m)\u001b[0m\u001b[1;33m)\u001b[0m\u001b[1;33m\u001b[0m\u001b[1;33m\u001b[0m\u001b[0m\n",
      "\u001b[1;32mC:\\ProgramData\\Anaconda3\\lib\\site-packages\\joblib\\_parallel_backends.py\u001b[0m in \u001b[0;36mwrap_future_result\u001b[1;34m(future, timeout)\u001b[0m\n\u001b[0;32m    540\u001b[0m         AsyncResults.get from multiprocessing.\"\"\"\n\u001b[0;32m    541\u001b[0m         \u001b[1;32mtry\u001b[0m\u001b[1;33m:\u001b[0m\u001b[1;33m\u001b[0m\u001b[1;33m\u001b[0m\u001b[0m\n\u001b[1;32m--> 542\u001b[1;33m             \u001b[1;32mreturn\u001b[0m \u001b[0mfuture\u001b[0m\u001b[1;33m.\u001b[0m\u001b[0mresult\u001b[0m\u001b[1;33m(\u001b[0m\u001b[0mtimeout\u001b[0m\u001b[1;33m=\u001b[0m\u001b[0mtimeout\u001b[0m\u001b[1;33m)\u001b[0m\u001b[1;33m\u001b[0m\u001b[1;33m\u001b[0m\u001b[0m\n\u001b[0m\u001b[0;32m    543\u001b[0m         \u001b[1;32mexcept\u001b[0m \u001b[0mCfTimeoutError\u001b[0m \u001b[1;32mas\u001b[0m \u001b[0me\u001b[0m\u001b[1;33m:\u001b[0m\u001b[1;33m\u001b[0m\u001b[1;33m\u001b[0m\u001b[0m\n\u001b[0;32m    544\u001b[0m             \u001b[1;32mraise\u001b[0m \u001b[0mTimeoutError\u001b[0m \u001b[1;32mfrom\u001b[0m \u001b[0me\u001b[0m\u001b[1;33m\u001b[0m\u001b[1;33m\u001b[0m\u001b[0m\n",
      "\u001b[1;32mC:\\ProgramData\\Anaconda3\\lib\\concurrent\\futures\\_base.py\u001b[0m in \u001b[0;36mresult\u001b[1;34m(self, timeout)\u001b[0m\n\u001b[0;32m    438\u001b[0m                     \u001b[1;32mreturn\u001b[0m \u001b[0mself\u001b[0m\u001b[1;33m.\u001b[0m\u001b[0m__get_result\u001b[0m\u001b[1;33m(\u001b[0m\u001b[1;33m)\u001b[0m\u001b[1;33m\u001b[0m\u001b[1;33m\u001b[0m\u001b[0m\n\u001b[0;32m    439\u001b[0m \u001b[1;33m\u001b[0m\u001b[0m\n\u001b[1;32m--> 440\u001b[1;33m                 \u001b[0mself\u001b[0m\u001b[1;33m.\u001b[0m\u001b[0m_condition\u001b[0m\u001b[1;33m.\u001b[0m\u001b[0mwait\u001b[0m\u001b[1;33m(\u001b[0m\u001b[0mtimeout\u001b[0m\u001b[1;33m)\u001b[0m\u001b[1;33m\u001b[0m\u001b[1;33m\u001b[0m\u001b[0m\n\u001b[0m\u001b[0;32m    441\u001b[0m \u001b[1;33m\u001b[0m\u001b[0m\n\u001b[0;32m    442\u001b[0m                 \u001b[1;32mif\u001b[0m \u001b[0mself\u001b[0m\u001b[1;33m.\u001b[0m\u001b[0m_state\u001b[0m \u001b[1;32min\u001b[0m \u001b[1;33m[\u001b[0m\u001b[0mCANCELLED\u001b[0m\u001b[1;33m,\u001b[0m \u001b[0mCANCELLED_AND_NOTIFIED\u001b[0m\u001b[1;33m]\u001b[0m\u001b[1;33m:\u001b[0m\u001b[1;33m\u001b[0m\u001b[1;33m\u001b[0m\u001b[0m\n",
      "\u001b[1;32mC:\\ProgramData\\Anaconda3\\lib\\threading.py\u001b[0m in \u001b[0;36mwait\u001b[1;34m(self, timeout)\u001b[0m\n\u001b[0;32m    310\u001b[0m         \u001b[1;32mtry\u001b[0m\u001b[1;33m:\u001b[0m    \u001b[1;31m# restore state no matter what (e.g., KeyboardInterrupt)\u001b[0m\u001b[1;33m\u001b[0m\u001b[1;33m\u001b[0m\u001b[0m\n\u001b[0;32m    311\u001b[0m             \u001b[1;32mif\u001b[0m \u001b[0mtimeout\u001b[0m \u001b[1;32mis\u001b[0m \u001b[1;32mNone\u001b[0m\u001b[1;33m:\u001b[0m\u001b[1;33m\u001b[0m\u001b[1;33m\u001b[0m\u001b[0m\n\u001b[1;32m--> 312\u001b[1;33m                 \u001b[0mwaiter\u001b[0m\u001b[1;33m.\u001b[0m\u001b[0macquire\u001b[0m\u001b[1;33m(\u001b[0m\u001b[1;33m)\u001b[0m\u001b[1;33m\u001b[0m\u001b[1;33m\u001b[0m\u001b[0m\n\u001b[0m\u001b[0;32m    313\u001b[0m                 \u001b[0mgotit\u001b[0m \u001b[1;33m=\u001b[0m \u001b[1;32mTrue\u001b[0m\u001b[1;33m\u001b[0m\u001b[1;33m\u001b[0m\u001b[0m\n\u001b[0;32m    314\u001b[0m             \u001b[1;32melse\u001b[0m\u001b[1;33m:\u001b[0m\u001b[1;33m\u001b[0m\u001b[1;33m\u001b[0m\u001b[0m\n",
      "\u001b[1;31mKeyboardInterrupt\u001b[0m: "
     ]
    }
   ],
   "source": [
    "#TfidfTransformer\n",
    "\n",
    "model_func(data = tfd.fit_transform(tv.fit_transform(train['NewsText'])), tar = transform(y, details = 'encode'))"
   ]
  },
  {
   "cell_type": "code",
   "execution_count": 26,
   "id": "285cd93b",
   "metadata": {},
   "outputs": [],
   "source": [
    "mul = MultinomialNB()\n",
    "log = LogisticRegression()\n"
   ]
  },
  {
   "cell_type": "code",
   "execution_count": 63,
   "id": "6a9a0a9d",
   "metadata": {},
   "outputs": [],
   "source": [
    "data_tv = tv.fit_transform(train['NewsText']).toarray()\n",
    "data_tfd = tfd.fit_transform(data_tv).toarray()\n",
    "target = transform(y, details = 'encode')\n",
    "\n",
    "cv_train = cv.fit_transform(train['NewsText']).toarray()"
   ]
  },
  {
   "cell_type": "code",
   "execution_count": null,
   "id": "85e4560b",
   "metadata": {},
   "outputs": [],
   "source": [
    "cv_results = cross_validate (log, data_tv, target, cv = skf, scoring = 'accuracy', return_train_score=True)"
   ]
  },
  {
   "cell_type": "code",
   "execution_count": null,
   "id": "634c5fe0",
   "metadata": {},
   "outputs": [],
   "source": [
    "print(f\"Train Score: {cv_results['train_score'].mean()}\\n\")\n",
    "print(f\"Test Score: {cv_results['test_score'].mean()}\")"
   ]
  },
  {
   "cell_type": "code",
   "execution_count": 64,
   "id": "3cfee1ba",
   "metadata": {
    "scrolled": true
   },
   "outputs": [
    {
     "name": "stdout",
     "output_type": "stream",
     "text": [
      "Best grid score: 0.6055555555555555\n",
      "Best grid params: {'C': 0.1, 'penalty': 'l2', 'solver': 'liblinear'}\n",
      "nan (nan) with: {'C': 1000, 'penalty': 'l1', 'solver': 'newton-cg'}\n",
      "nan (nan) with: {'C': 1000, 'penalty': 'l1', 'solver': 'lbfgs'}\n",
      "0.511111 (0.064490) with: {'C': 1000, 'penalty': 'l1', 'solver': 'liblinear'}\n",
      "0.572222 (0.057869) with: {'C': 1000, 'penalty': 'l2', 'solver': 'newton-cg'}\n",
      "0.573611 (0.058860) with: {'C': 1000, 'penalty': 'l2', 'solver': 'lbfgs'}\n",
      "0.581944 (0.059641) with: {'C': 1000, 'penalty': 'l2', 'solver': 'liblinear'}\n",
      "nan (nan) with: {'C': 500, 'penalty': 'l1', 'solver': 'newton-cg'}\n",
      "nan (nan) with: {'C': 500, 'penalty': 'l1', 'solver': 'lbfgs'}\n",
      "0.529167 (0.055277) with: {'C': 500, 'penalty': 'l1', 'solver': 'liblinear'}\n",
      "0.572222 (0.058366) with: {'C': 500, 'penalty': 'l2', 'solver': 'newton-cg'}\n",
      "0.572222 (0.058366) with: {'C': 500, 'penalty': 'l2', 'solver': 'lbfgs'}\n",
      "0.581944 (0.060604) with: {'C': 500, 'penalty': 'l2', 'solver': 'liblinear'}\n",
      "nan (nan) with: {'C': 200, 'penalty': 'l1', 'solver': 'newton-cg'}\n",
      "nan (nan) with: {'C': 200, 'penalty': 'l1', 'solver': 'lbfgs'}\n",
      "0.525000 (0.059512) with: {'C': 200, 'penalty': 'l1', 'solver': 'liblinear'}\n",
      "0.576389 (0.057265) with: {'C': 200, 'penalty': 'l2', 'solver': 'newton-cg'}\n",
      "0.576389 (0.057265) with: {'C': 200, 'penalty': 'l2', 'solver': 'lbfgs'}\n",
      "0.581944 (0.056656) with: {'C': 200, 'penalty': 'l2', 'solver': 'liblinear'}\n",
      "nan (nan) with: {'C': 100, 'penalty': 'l1', 'solver': 'newton-cg'}\n",
      "nan (nan) with: {'C': 100, 'penalty': 'l1', 'solver': 'lbfgs'}\n",
      "0.523611 (0.059835) with: {'C': 100, 'penalty': 'l1', 'solver': 'liblinear'}\n",
      "0.577778 (0.054042) with: {'C': 100, 'penalty': 'l2', 'solver': 'newton-cg'}\n",
      "0.577778 (0.054042) with: {'C': 100, 'penalty': 'l2', 'solver': 'lbfgs'}\n",
      "0.581944 (0.056656) with: {'C': 100, 'penalty': 'l2', 'solver': 'liblinear'}\n",
      "nan (nan) with: {'C': 10, 'penalty': 'l1', 'solver': 'newton-cg'}\n",
      "nan (nan) with: {'C': 10, 'penalty': 'l1', 'solver': 'lbfgs'}\n",
      "0.526389 (0.050154) with: {'C': 10, 'penalty': 'l1', 'solver': 'liblinear'}\n",
      "0.573611 (0.050384) with: {'C': 10, 'penalty': 'l2', 'solver': 'newton-cg'}\n",
      "0.573611 (0.050384) with: {'C': 10, 'penalty': 'l2', 'solver': 'lbfgs'}\n",
      "0.583333 (0.047507) with: {'C': 10, 'penalty': 'l2', 'solver': 'liblinear'}\n",
      "nan (nan) with: {'C': 1.0, 'penalty': 'l1', 'solver': 'newton-cg'}\n",
      "nan (nan) with: {'C': 1.0, 'penalty': 'l1', 'solver': 'lbfgs'}\n",
      "0.580556 (0.059350) with: {'C': 1.0, 'penalty': 'l1', 'solver': 'liblinear'}\n",
      "0.584722 (0.051856) with: {'C': 1.0, 'penalty': 'l2', 'solver': 'newton-cg'}\n",
      "0.584722 (0.051856) with: {'C': 1.0, 'penalty': 'l2', 'solver': 'lbfgs'}\n",
      "0.597222 (0.047912) with: {'C': 1.0, 'penalty': 'l2', 'solver': 'liblinear'}\n",
      "nan (nan) with: {'C': 0.1, 'penalty': 'l1', 'solver': 'newton-cg'}\n",
      "nan (nan) with: {'C': 0.1, 'penalty': 'l1', 'solver': 'lbfgs'}\n",
      "0.400000 (0.045770) with: {'C': 0.1, 'penalty': 'l1', 'solver': 'liblinear'}\n",
      "0.600000 (0.052264) with: {'C': 0.1, 'penalty': 'l2', 'solver': 'newton-cg'}\n",
      "0.600000 (0.052264) with: {'C': 0.1, 'penalty': 'l2', 'solver': 'lbfgs'}\n",
      "0.605556 (0.051856) with: {'C': 0.1, 'penalty': 'l2', 'solver': 'liblinear'}\n",
      "nan (nan) with: {'C': 0.01, 'penalty': 'l1', 'solver': 'newton-cg'}\n",
      "nan (nan) with: {'C': 0.01, 'penalty': 'l1', 'solver': 'lbfgs'}\n",
      "0.341667 (0.010206) with: {'C': 0.01, 'penalty': 'l1', 'solver': 'liblinear'}\n",
      "0.533333 (0.049183) with: {'C': 0.01, 'penalty': 'l2', 'solver': 'newton-cg'}\n",
      "0.533333 (0.049183) with: {'C': 0.01, 'penalty': 'l2', 'solver': 'lbfgs'}\n",
      "0.544444 (0.055312) with: {'C': 0.01, 'penalty': 'l2', 'solver': 'liblinear'}\n",
      "nan (nan) with: {'C': 0.001, 'penalty': 'l1', 'solver': 'newton-cg'}\n",
      "nan (nan) with: {'C': 0.001, 'penalty': 'l1', 'solver': 'lbfgs'}\n",
      "0.341667 (0.010206) with: {'C': 0.001, 'penalty': 'l1', 'solver': 'liblinear'}\n",
      "0.369444 (0.017786) with: {'C': 0.001, 'penalty': 'l2', 'solver': 'newton-cg'}\n",
      "0.369444 (0.017786) with: {'C': 0.001, 'penalty': 'l2', 'solver': 'lbfgs'}\n",
      "0.443056 (0.041295) with: {'C': 0.001, 'penalty': 'l2', 'solver': 'liblinear'}\n",
      "nan (nan) with: {'C': 0.0001, 'penalty': 'l1', 'solver': 'newton-cg'}\n",
      "nan (nan) with: {'C': 0.0001, 'penalty': 'l1', 'solver': 'lbfgs'}\n",
      "0.341667 (0.010206) with: {'C': 0.0001, 'penalty': 'l1', 'solver': 'liblinear'}\n",
      "0.366667 (0.010206) with: {'C': 0.0001, 'penalty': 'l2', 'solver': 'newton-cg'}\n",
      "0.366667 (0.010206) with: {'C': 0.0001, 'penalty': 'l2', 'solver': 'lbfgs'}\n",
      "0.425000 (0.041528) with: {'C': 0.0001, 'penalty': 'l2', 'solver': 'liblinear'}\n",
      "Time Spent: 45.898661613464355\n"
     ]
    },
    {
     "name": "stderr",
     "output_type": "stream",
     "text": [
      "C:\\ProgramData\\Anaconda3\\lib\\site-packages\\sklearn\\model_selection\\_search.py:922: UserWarning: One or more of the test scores are non-finite: [       nan        nan 0.51111111 0.57222222 0.57361111 0.58194444\n",
      "        nan        nan 0.52916667 0.57222222 0.57222222 0.58194444\n",
      "        nan        nan 0.525      0.57638889 0.57638889 0.58194444\n",
      "        nan        nan 0.52361111 0.57777778 0.57777778 0.58194444\n",
      "        nan        nan 0.52638889 0.57361111 0.57361111 0.58333333\n",
      "        nan        nan 0.58055556 0.58472222 0.58472222 0.59722222\n",
      "        nan        nan 0.4        0.6        0.6        0.60555556\n",
      "        nan        nan 0.34166667 0.53333333 0.53333333 0.54444444\n",
      "        nan        nan 0.34166667 0.36944444 0.36944444 0.44305556\n",
      "        nan        nan 0.34166667 0.36666667 0.36666667 0.425     ]\n",
      "  warnings.warn(\n"
     ]
    }
   ],
   "source": [
    "## Hyper Parameter tuning for logistic regression model\n",
    "start = time.time()\n",
    "\n",
    "model = LogisticRegression()\n",
    "solvers = ['newton-cg', 'lbfgs', 'liblinear']\n",
    "penalty = ['l1', 'l2']\n",
    "c_values = [1000, 500, 200, 100, 10, 1.0, 0.1, 0.01, 0.001, 0.0001]\n",
    "max_iter = [i*100 for i in range(1,11)]\n",
    "multi_class = ['auto', 'ovr', 'multinomial']\n",
    "\n",
    "#define grid serch \n",
    "grid = dict(solver = solvers, penalty = penalty, C = c_values)\n",
    "grid_search = GridSearchCV(estimator = model, param_grid = grid, scoring = 'accuracy', n_jobs = -1, cv = skf)\n",
    "grid_result = grid_search.fit(cv_train, target)\n",
    "\n",
    "#summarize results\n",
    "print(f\"Best grid score: {grid_result.best_score_}\")\n",
    "print(f\"Best grid params: {grid_result.best_params_}\")\n",
    "means = grid_result.cv_results_['mean_test_score']\n",
    "stds = grid_result.cv_results_['std_test_score']\n",
    "params = grid_result.cv_results_['params']\n",
    "\n",
    "for mean , stdev, param in zip(means, stds, params):\n",
    "    print(\"%f (%f) with: %r\" % (mean, stdev, param))\n",
    "    \n",
    "end = time.time()\n",
    "print(f'Time Spent: {end - start}')"
   ]
  },
  {
   "cell_type": "code",
   "execution_count": 65,
   "id": "4b8df697",
   "metadata": {},
   "outputs": [
    {
     "data": {
      "text/plain": [
       "LogisticRegression(C=0.1, solver='liblinear')"
      ]
     },
     "execution_count": 65,
     "metadata": {},
     "output_type": "execute_result"
    }
   ],
   "source": [
    "grid_search.best_estimator_"
   ]
  },
  {
   "cell_type": "code",
   "execution_count": 66,
   "id": "636b294c",
   "metadata": {},
   "outputs": [
    {
     "data": {
      "text/plain": [
       "0.6055555555555555"
      ]
     },
     "execution_count": 66,
     "metadata": {},
     "output_type": "execute_result"
    }
   ],
   "source": [
    "grid_search.best_score_"
   ]
  },
  {
   "cell_type": "code",
   "execution_count": 67,
   "id": "1db29aea",
   "metadata": {},
   "outputs": [
    {
     "data": {
      "text/plain": [
       "{'C': 0.1, 'penalty': 'l2', 'solver': 'liblinear'}"
      ]
     },
     "execution_count": 67,
     "metadata": {},
     "output_type": "execute_result"
    }
   ],
   "source": [
    "grid_search.best_params_"
   ]
  },
  {
   "cell_type": "code",
   "execution_count": 84,
   "id": "5aa8c6e4",
   "metadata": {},
   "outputs": [],
   "source": [
    "tune_log = LogisticRegression(C = 0.1, penalty = 'l2', solver = 'liblinear')"
   ]
  },
  {
   "cell_type": "code",
   "execution_count": 85,
   "id": "dd5f8fdd",
   "metadata": {},
   "outputs": [],
   "source": [
    "from sklearn.metrics import accuracy_score"
   ]
  },
  {
   "cell_type": "code",
   "execution_count": 86,
   "id": "19bc52b4",
   "metadata": {
    "scrolled": true
   },
   "outputs": [
    {
     "name": "stdout",
     "output_type": "stream",
     "text": [
      "Train Accuracy:  0.9479166666666666\n",
      "Validation Accuracy:  0.5833333333333334\n",
      "Test has been Scored\n",
      "______________\n",
      "\n",
      "Train Accuracy:  0.9635416666666666\n",
      "Validation Accuracy:  0.6458333333333334\n",
      "Test has been Scored\n",
      "______________\n",
      "\n",
      "Train Accuracy:  0.9635416666666666\n",
      "Validation Accuracy:  0.5625\n",
      "Test has been Scored\n",
      "______________\n",
      "\n",
      "Train Accuracy:  0.9583333333333334\n",
      "Validation Accuracy:  0.7083333333333334\n",
      "Test has been Scored\n",
      "______________\n",
      "\n",
      "Train Accuracy:  0.9635416666666666\n",
      "Validation Accuracy:  0.6041666666666666\n",
      "Test has been Scored\n",
      "______________\n",
      "\n",
      "Train Accuracy:  0.953125\n",
      "Validation Accuracy:  0.5625\n",
      "Test has been Scored\n",
      "______________\n",
      "\n",
      "Train Accuracy:  0.953125\n",
      "Validation Accuracy:  0.5625\n",
      "Test has been Scored\n",
      "______________\n",
      "\n",
      "Train Accuracy:  0.9635416666666666\n",
      "Validation Accuracy:  0.625\n",
      "Test has been Scored\n",
      "______________\n",
      "\n",
      "Train Accuracy:  0.9635416666666666\n",
      "Validation Accuracy:  0.6875\n",
      "Test has been Scored\n",
      "______________\n",
      "\n",
      "Train Accuracy:  0.953125\n",
      "Validation Accuracy:  0.5208333333333334\n",
      "Test has been Scored\n",
      "______________\n",
      "\n",
      "Train Accuracy:  0.9583333333333334\n",
      "Validation Accuracy:  0.5625\n",
      "Test has been Scored\n",
      "______________\n",
      "\n",
      "Train Accuracy:  0.9583333333333334\n",
      "Validation Accuracy:  0.6041666666666666\n",
      "Test has been Scored\n",
      "______________\n",
      "\n",
      "Train Accuracy:  0.9375\n",
      "Validation Accuracy:  0.5625\n",
      "Test has been Scored\n",
      "______________\n",
      "\n",
      "Train Accuracy:  0.9635416666666666\n",
      "Validation Accuracy:  0.6666666666666666\n",
      "Test has been Scored\n",
      "______________\n",
      "\n",
      "Train Accuracy:  0.953125\n",
      "Validation Accuracy:  0.625\n",
      "Test has been Scored\n",
      "______________\n",
      "\n",
      "Training Mean ROC AUC Score 0.9569444444444444\n",
      "Validation Mean ROC AUC Score 0.6055555555555555\n"
     ]
    }
   ],
   "source": [
    "cv_score=[]\n",
    "train_score=[]\n",
    "sub_pred = []\n",
    "\n",
    "fold= skf\n",
    "X = pd.DataFrame(cv_train)\n",
    "yy = target\n",
    "testing = cv.transform(test['NewsText']).toarray()\n",
    "\n",
    "\n",
    "for train_index, test_index in fold.split(X,pd.Series(yy)):\n",
    "    X_trainx, X_val = X.iloc[train_index], X.iloc[test_index]\n",
    "    y_trainx, y_val = pd.Series(yy).iloc[train_index], pd.Series(yy).iloc[test_index]\n",
    "    \n",
    "    tune_log.fit(X_trainx,y_trainx)\n",
    "    train_preds=tune_log.predict(X_trainx)\n",
    "    print(\"Train Accuracy: \",accuracy_score(y_trainx,train_preds))\n",
    "    train_score.append(accuracy_score(y_trainx,train_preds))\n",
    "    \n",
    "    val_preds=tune_log.predict(X_val)\n",
    "    print(\"Validation Accuracy: \",accuracy_score(y_val,val_preds))\n",
    "    cv_score.append(accuracy_score(y_val,val_preds))\n",
    "    \n",
    "    tested = tune_log.predict_proba(testing)\n",
    "    print(\"Test has been Scored\")\n",
    "    print(\"______________\\n\")\n",
    "    sub_pred.append(tested)\n",
    "\n",
    "print(f'Training Mean ROC AUC Score {np.mean(train_score)}')\n",
    "print(f'Validation Mean ROC AUC Score {np.mean(cv_score)}')"
   ]
  },
  {
   "cell_type": "code",
   "execution_count": 87,
   "id": "6a9ce993",
   "metadata": {},
   "outputs": [],
   "source": [
    "value_log = (np.sum(sub_pred, axis = 0))/15"
   ]
  },
  {
   "cell_type": "code",
   "execution_count": 88,
   "id": "68fb0566",
   "metadata": {},
   "outputs": [],
   "source": [
    "val_log = np.argmax(value, axis = 1)"
   ]
  },
  {
   "cell_type": "code",
   "execution_count": 89,
   "id": "c3b0fd41",
   "metadata": {},
   "outputs": [],
   "source": [
    "labelss = transform(data = val_log, details = 'decode')"
   ]
  },
  {
   "cell_type": "code",
   "execution_count": 90,
   "id": "caa7c6a2",
   "metadata": {},
   "outputs": [],
   "source": [
    "sub = pd.DataFrame({'id':test['id'], 'label':labelss})"
   ]
  },
  {
   "cell_type": "code",
   "execution_count": 92,
   "id": "a8fa4ffd",
   "metadata": {},
   "outputs": [
    {
     "data": {
      "text/plain": [
       " 1    26\n",
       "-1    23\n",
       " 0    11\n",
       "Name: label, dtype: int64"
      ]
     },
     "execution_count": 92,
     "metadata": {},
     "output_type": "execute_result"
    }
   ],
   "source": [
    "sub.label.value_counts()"
   ]
  },
  {
   "cell_type": "code",
   "execution_count": 94,
   "id": "e64adb09",
   "metadata": {},
   "outputs": [],
   "source": [
    "sub.to_csv('log_reg_model.csv', index = False)"
   ]
  },
  {
   "cell_type": "code",
   "execution_count": null,
   "id": "d9ed6bb5",
   "metadata": {},
   "outputs": [],
   "source": []
  },
  {
   "cell_type": "code",
   "execution_count": 95,
   "id": "facb8b62",
   "metadata": {},
   "outputs": [],
   "source": [
    "tune_log = RandomForestClassifier(max_depth=8, max_features='sqrt', min_samples_leaf=2,min_samples_split=10, n_estimators = 60)"
   ]
  },
  {
   "cell_type": "code",
   "execution_count": 96,
   "id": "06ce837b",
   "metadata": {
    "scrolled": true
   },
   "outputs": [
    {
     "name": "stdout",
     "output_type": "stream",
     "text": [
      "Train Accuracy:  0.7864583333333334\n",
      "Validation Accuracy:  0.5416666666666666\n",
      "Test has been Scored\n",
      "______________\n",
      "\n",
      "Train Accuracy:  0.8177083333333334\n",
      "Validation Accuracy:  0.5416666666666666\n",
      "Test has been Scored\n",
      "______________\n",
      "\n",
      "Train Accuracy:  0.78125\n",
      "Validation Accuracy:  0.5\n",
      "Test has been Scored\n",
      "______________\n",
      "\n",
      "Train Accuracy:  0.8229166666666666\n",
      "Validation Accuracy:  0.6875\n",
      "Test has been Scored\n",
      "______________\n",
      "\n",
      "Train Accuracy:  0.796875\n",
      "Validation Accuracy:  0.5416666666666666\n",
      "Test has been Scored\n",
      "______________\n",
      "\n",
      "Train Accuracy:  0.7708333333333334\n",
      "Validation Accuracy:  0.5625\n",
      "Test has been Scored\n",
      "______________\n",
      "\n",
      "Train Accuracy:  0.8125\n",
      "Validation Accuracy:  0.6875\n",
      "Test has been Scored\n",
      "______________\n",
      "\n",
      "Train Accuracy:  0.7916666666666666\n",
      "Validation Accuracy:  0.625\n",
      "Test has been Scored\n",
      "______________\n",
      "\n",
      "Train Accuracy:  0.7447916666666666\n",
      "Validation Accuracy:  0.5833333333333334\n",
      "Test has been Scored\n",
      "______________\n",
      "\n",
      "Train Accuracy:  0.8072916666666666\n",
      "Validation Accuracy:  0.6041666666666666\n",
      "Test has been Scored\n",
      "______________\n",
      "\n",
      "Train Accuracy:  0.8125\n",
      "Validation Accuracy:  0.5625\n",
      "Test has been Scored\n",
      "______________\n",
      "\n",
      "Train Accuracy:  0.8020833333333334\n",
      "Validation Accuracy:  0.5\n",
      "Test has been Scored\n",
      "______________\n",
      "\n",
      "Train Accuracy:  0.7708333333333334\n",
      "Validation Accuracy:  0.4791666666666667\n",
      "Test has been Scored\n",
      "______________\n",
      "\n",
      "Train Accuracy:  0.8177083333333334\n",
      "Validation Accuracy:  0.5416666666666666\n",
      "Test has been Scored\n",
      "______________\n",
      "\n",
      "Train Accuracy:  0.8125\n",
      "Validation Accuracy:  0.6666666666666666\n",
      "Test has been Scored\n",
      "______________\n",
      "\n",
      "Training Mean ROC AUC Score 0.796527777777778\n",
      "Validation Mean ROC AUC Score 0.575\n"
     ]
    }
   ],
   "source": [
    "cv_score=[]\n",
    "train_score=[]\n",
    "sub_pred = []\n",
    "\n",
    "fold= skf\n",
    "X = pd.DataFrame(cv_train)\n",
    "yy = target\n",
    "testing = cv.transform(test['NewsText']).toarray()\n",
    "\n",
    "\n",
    "for train_index, test_index in fold.split(X,pd.Series(yy)):\n",
    "    X_trainx, X_val = X.iloc[train_index], X.iloc[test_index]\n",
    "    y_trainx, y_val = pd.Series(yy).iloc[train_index], pd.Series(yy).iloc[test_index]\n",
    "    \n",
    "    tune_log.fit(X_trainx,y_trainx)\n",
    "    train_preds=tune_log.predict(X_trainx)\n",
    "    print(\"Train Accuracy: \",accuracy_score(y_trainx,train_preds))\n",
    "    train_score.append(accuracy_score(y_trainx,train_preds))\n",
    "    \n",
    "    val_preds=tune_log.predict(X_val)\n",
    "    print(\"Validation Accuracy: \",accuracy_score(y_val,val_preds))\n",
    "    cv_score.append(accuracy_score(y_val,val_preds))\n",
    "    \n",
    "    tested = tune_log.predict_proba(testing)\n",
    "    print(\"Test has been Scored\")\n",
    "    print(\"______________\\n\")\n",
    "    sub_pred.append(tested)\n",
    "\n",
    "print(f'Training Mean ROC AUC Score {np.mean(train_score)}')\n",
    "print(f'Validation Mean ROC AUC Score {np.mean(cv_score)}')"
   ]
  },
  {
   "cell_type": "code",
   "execution_count": 98,
   "id": "17f8b1b0",
   "metadata": {},
   "outputs": [],
   "source": [
    "value_rfc = (np.sum(sub_pred, axis = 0))/15"
   ]
  },
  {
   "cell_type": "code",
   "execution_count": 99,
   "id": "e961977b",
   "metadata": {},
   "outputs": [],
   "source": [
    "val_rfc = np.argmax(value_rfc*0.6 + value_log*0.4, axis = 1)"
   ]
  },
  {
   "cell_type": "code",
   "execution_count": 100,
   "id": "a57fc5dc",
   "metadata": {},
   "outputs": [
    {
     "data": {
      "text/plain": [
       "array([2, 2, 1, 0, 2, 2, 0, 2, 2, 1, 2, 2, 2, 2, 1, 2, 2, 2, 2, 2, 0, 0,\n",
       "       0, 0, 2, 2, 1, 0, 2, 2, 0, 0, 0, 2, 0, 2, 0, 2, 0, 2, 2, 2, 0, 2,\n",
       "       2, 2, 2, 2, 0, 2, 1, 2, 0, 0, 2, 2, 0, 2, 0, 0], dtype=int64)"
      ]
     },
     "execution_count": 100,
     "metadata": {},
     "output_type": "execute_result"
    }
   ],
   "source": [
    "val_rfc"
   ]
  },
  {
   "cell_type": "code",
   "execution_count": 101,
   "id": "5575bf30",
   "metadata": {},
   "outputs": [
    {
     "data": {
      "text/plain": [
       " 1    35\n",
       "-1    20\n",
       " 0     5\n",
       "Name: label, dtype: int64"
      ]
     },
     "execution_count": 101,
     "metadata": {},
     "output_type": "execute_result"
    }
   ],
   "source": [
    "labelss = transform(data = val_rfc, details = 'decode')\n",
    "sub = pd.DataFrame({'id':test['id'], 'label':labelss})\n",
    "sub.label.value_counts()"
   ]
  },
  {
   "cell_type": "code",
   "execution_count": 102,
   "id": "45eea124",
   "metadata": {},
   "outputs": [],
   "source": [
    "sub.to_csv('ensemble.csv', index = False)"
   ]
  },
  {
   "cell_type": "code",
   "execution_count": null,
   "id": "9d797ea9",
   "metadata": {},
   "outputs": [],
   "source": []
  },
  {
   "cell_type": "markdown",
   "id": "ab6a819c",
   "metadata": {},
   "source": [
    "## Multinomial NB"
   ]
  },
  {
   "cell_type": "code",
   "execution_count": 46,
   "id": "6ff91892",
   "metadata": {},
   "outputs": [
    {
     "name": "stdout",
     "output_type": "stream",
     "text": [
      "Train Accuracy:  0.921875\n",
      "Validation Accuracy:  0.5625\n",
      "Test has been Scored\n",
      "______________\n",
      "\n",
      "Train Accuracy:  0.9479166666666666\n",
      "Validation Accuracy:  0.6041666666666666\n",
      "Test has been Scored\n",
      "______________\n",
      "\n",
      "Train Accuracy:  0.9479166666666666\n",
      "Validation Accuracy:  0.5833333333333334\n",
      "Test has been Scored\n",
      "______________\n",
      "\n",
      "Train Accuracy:  0.9270833333333334\n",
      "Validation Accuracy:  0.6458333333333334\n",
      "Test has been Scored\n",
      "______________\n",
      "\n",
      "Train Accuracy:  0.921875\n",
      "Validation Accuracy:  0.6458333333333334\n",
      "Test has been Scored\n",
      "______________\n",
      "\n",
      "Train Accuracy:  0.9322916666666666\n",
      "Validation Accuracy:  0.5625\n",
      "Test has been Scored\n",
      "______________\n",
      "\n",
      "Train Accuracy:  0.9270833333333334\n",
      "Validation Accuracy:  0.7083333333333334\n",
      "Test has been Scored\n",
      "______________\n",
      "\n",
      "Train Accuracy:  0.9322916666666666\n",
      "Validation Accuracy:  0.6875\n",
      "Test has been Scored\n",
      "______________\n",
      "\n",
      "Train Accuracy:  0.9270833333333334\n",
      "Validation Accuracy:  0.6458333333333334\n",
      "Test has been Scored\n",
      "______________\n",
      "\n",
      "Train Accuracy:  0.9479166666666666\n",
      "Validation Accuracy:  0.4791666666666667\n",
      "Test has been Scored\n",
      "______________\n",
      "\n",
      "Train Accuracy:  0.9166666666666666\n",
      "Validation Accuracy:  0.5833333333333334\n",
      "Test has been Scored\n",
      "______________\n",
      "\n",
      "Train Accuracy:  0.9166666666666666\n",
      "Validation Accuracy:  0.625\n",
      "Test has been Scored\n",
      "______________\n",
      "\n",
      "Train Accuracy:  0.9166666666666666\n",
      "Validation Accuracy:  0.5833333333333334\n",
      "Test has been Scored\n",
      "______________\n",
      "\n",
      "Train Accuracy:  0.9166666666666666\n",
      "Validation Accuracy:  0.625\n",
      "Test has been Scored\n",
      "______________\n",
      "\n",
      "Train Accuracy:  1.0\n",
      "Validation Accuracy:  0.7291666666666666\n",
      "Test has been Scored\n",
      "______________\n",
      "\n",
      "Training Mean ROC AUC Score 0.9333333333333331\n",
      "Validation Mean ROC AUC Score 0.6180555555555555\n"
     ]
    }
   ],
   "source": [
    "cv_score=[]\n",
    "train_score=[]\n",
    "sub_pred = []\n",
    "\n",
    "fold= skf\n",
    "X = pd.DataFrame(data_tv)\n",
    "yy = target\n",
    "testing = tv.transform(test['NewsText']).toarray()\n",
    "\n",
    "\n",
    "for train_index, test_index in fold.split(X,pd.Series(yy)):\n",
    "    X_trainx, X_val = X.iloc[train_index], X.iloc[test_index]\n",
    "    y_trainx, y_val = pd.Series(yy).iloc[train_index], pd.Series(yy).iloc[test_index]\n",
    "    \n",
    "    mul.fit(X_trainx,y_trainx)\n",
    "    train_preds=tune_log.predict(X_trainx)\n",
    "    print(\"Train Accuracy: \",accuracy_score(y_trainx,train_preds))\n",
    "    train_score.append(accuracy_score(y_trainx,train_preds))\n",
    "    \n",
    "    val_preds=mul.predict(X_val)\n",
    "    print(\"Validation Accuracy: \",accuracy_score(y_val,val_preds))\n",
    "    cv_score.append(accuracy_score(y_val,val_preds))\n",
    "    \n",
    "    tested = mul.predict_proba(testing)\n",
    "    print(\"Test has been Scored\")\n",
    "    print(\"______________\\n\")\n",
    "    sub_pred.append(tested)\n",
    "\n",
    "print(f'Training Mean ROC AUC Score {np.mean(train_score)}')\n",
    "print(f'Validation Mean ROC AUC Score {np.mean(cv_score)}')"
   ]
  },
  {
   "cell_type": "code",
   "execution_count": 47,
   "id": "04a67fee",
   "metadata": {},
   "outputs": [],
   "source": [
    "value = (np.sum(sub_pred, axis = 0))/15\n",
    "val = np.argmax(value, axis = 1)"
   ]
  },
  {
   "cell_type": "code",
   "execution_count": 48,
   "id": "2679afcb",
   "metadata": {},
   "outputs": [],
   "source": [
    "labels = transform(data = val, details = 'decode')"
   ]
  },
  {
   "cell_type": "code",
   "execution_count": 49,
   "id": "d6f5104b",
   "metadata": {},
   "outputs": [],
   "source": [
    "sub_mul = pd.DataFrame({'id':test['id'], 'label':labels})"
   ]
  },
  {
   "cell_type": "code",
   "execution_count": 50,
   "id": "dba3261b",
   "metadata": {},
   "outputs": [
    {
     "data": {
      "text/plain": [
       " 1    30\n",
       "-1    23\n",
       " 0     7\n",
       "Name: label, dtype: int64"
      ]
     },
     "execution_count": 50,
     "metadata": {},
     "output_type": "execute_result"
    }
   ],
   "source": [
    "sub_mul.label.value_counts()"
   ]
  },
  {
   "cell_type": "code",
   "execution_count": 51,
   "id": "0d531340",
   "metadata": {},
   "outputs": [],
   "source": [
    "sub.to_csv('multinomialnb_model.csv', index = False)"
   ]
  }
 ],
 "metadata": {
  "kernelspec": {
   "display_name": "Python 3 (ipykernel)",
   "language": "python",
   "name": "python3"
  },
  "language_info": {
   "codemirror_mode": {
    "name": "ipython",
    "version": 3
   },
   "file_extension": ".py",
   "mimetype": "text/x-python",
   "name": "python",
   "nbconvert_exporter": "python",
   "pygments_lexer": "ipython3",
   "version": "3.9.7"
  }
 },
 "nbformat": 4,
 "nbformat_minor": 5
}
