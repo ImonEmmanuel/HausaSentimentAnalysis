{
 "cells": [
  {
   "cell_type": "code",
   "execution_count": 139,
   "id": "751c1410",
   "metadata": {},
   "outputs": [],
   "source": [
    "import numpy as np\n",
    "import matplotlib.pyplot as plt\n",
    "import pandas as pd"
   ]
  },
  {
   "cell_type": "code",
   "execution_count": 140,
   "id": "ec652612",
   "metadata": {},
   "outputs": [],
   "source": [
    "train=pd.read_csv('Train.csv', delimiter=',')\n",
    "test=pd.read_csv('Test.csv', delimiter=',')"
   ]
  },
  {
   "cell_type": "code",
   "execution_count": 141,
   "id": "4299b42e",
   "metadata": {},
   "outputs": [],
   "source": [
    "from sklearn.feature_extraction.text import CountVectorizer"
   ]
  },
  {
   "cell_type": "code",
   "execution_count": 142,
   "id": "4d1ad4c3",
   "metadata": {},
   "outputs": [],
   "source": [
    "cv=CountVectorizer()"
   ]
  },
  {
   "cell_type": "code",
   "execution_count": 143,
   "id": "a1bd699e",
   "metadata": {},
   "outputs": [],
   "source": [
    "X = train['NewsText']"
   ]
  },
  {
   "cell_type": "code",
   "execution_count": 144,
   "id": "ba63277d",
   "metadata": {},
   "outputs": [],
   "source": [
    "def transform(data, details):\n",
    "    # 0 == -1 , 1 == 0, 2 == 1\n",
    "    \n",
    "    x = []\n",
    "    if details == 'encode':\n",
    "        for v, i in enumerate(data):\n",
    "            if i == -1: x.append(0)\n",
    "            elif i == 0: x.append(1)\n",
    "            else: x.append(2)\n",
    "    else:\n",
    "        for v, i in enumerate(data):\n",
    "            if i == 0: x.append(-1)\n",
    "            elif i == 1: x.append(0)\n",
    "            else: x.append(1)\n",
    "                           \n",
    "    return np.array(x)"
   ]
  },
  {
   "cell_type": "code",
   "execution_count": 145,
   "id": "72077d06",
   "metadata": {},
   "outputs": [],
   "source": [
    "y = transform(train['label'].values, details = 'encode')"
   ]
  },
  {
   "cell_type": "code",
   "execution_count": 146,
   "id": "56d000f0",
   "metadata": {},
   "outputs": [],
   "source": [
    "from sklearn.preprocessing import StandardScaler, RobustScaler, Normalizer\n",
    "from sklearn.ensemble import RandomForestClassifier\n",
    "from sklearn.model_selection import train_test_split, StratifiedKFold,cross_val_predict, RepeatedStratifiedKFold\n",
    "from sklearn.model_selection import cross_validate, cross_val_score, GridSearchCV, RandomizedSearchCV"
   ]
  },
  {
   "cell_type": "code",
   "execution_count": 147,
   "id": "3b2cbd8c",
   "metadata": {},
   "outputs": [],
   "source": [
    "X_train, X_test, y_train, y_test = train_test_split(X, y, stratify= y, test_size=0.2, random_state=42)"
   ]
  },
  {
   "cell_type": "code",
   "execution_count": 148,
   "id": "10f2d557",
   "metadata": {},
   "outputs": [],
   "source": [
    "from sklearn.ensemble import RandomForestClassifier\n",
    "from sklearn.preprocessing import StandardScaler"
   ]
  },
  {
   "cell_type": "code",
   "execution_count": 149,
   "id": "f8a36a8e",
   "metadata": {},
   "outputs": [],
   "source": [
    "rfc = RandomForestClassifier()\n",
    "scaler = StandardScaler()"
   ]
  },
  {
   "cell_type": "code",
   "execution_count": 150,
   "id": "6a3feb4a",
   "metadata": {},
   "outputs": [],
   "source": [
    "cv_train =cv.fit_transform(X_train).toarray()"
   ]
  },
  {
   "cell_type": "code",
   "execution_count": 151,
   "id": "b4be03a4",
   "metadata": {},
   "outputs": [],
   "source": [
    "skf = RepeatedStratifiedKFold(n_splits=5, n_repeats=3, random_state=1)\n",
    "str_kf = StratifiedKFold(n_splits=5) "
   ]
  },
  {
   "cell_type": "code",
   "execution_count": 152,
   "id": "987797a2",
   "metadata": {},
   "outputs": [],
   "source": [
    "cv_results = cross_validate (rfc, cv_train, y_train, cv = skf, scoring = 'accuracy', return_train_score=True)"
   ]
  },
  {
   "cell_type": "code",
   "execution_count": 153,
   "id": "f2ba3982",
   "metadata": {},
   "outputs": [
    {
     "name": "stdout",
     "output_type": "stream",
     "text": [
      "Train Score: 1.0\n",
      "\n",
      "Test Score: 0.5849752586594691\n"
     ]
    }
   ],
   "source": [
    "print(f\"Train Score: {cv_results['train_score'].mean()}\\n\")\n",
    "print(f\"Test Score: {cv_results['test_score'].mean()}\")"
   ]
  },
  {
   "cell_type": "code",
   "execution_count": null,
   "id": "e61c8e04",
   "metadata": {},
   "outputs": [],
   "source": [
    "Train Score: 1.0\n",
    "\n",
    "Test Score: 0.5795321637426902\n",
    "    \n",
    "    \n",
    "Train Score: 1.0\n",
    "\n",
    "Test Score: 0.5914080071974809"
   ]
  },
  {
   "cell_type": "code",
   "execution_count": 49,
   "id": "b096d846",
   "metadata": {},
   "outputs": [],
   "source": [
    "from sklearn.metrics import roc_auc_score, accuracy_score"
   ]
  },
  {
   "cell_type": "code",
   "execution_count": 117,
   "id": "c129093b",
   "metadata": {},
   "outputs": [
    {
     "name": "stdout",
     "output_type": "stream",
     "text": [
      "Fitting 5 folds for each of 6000 candidates, totalling 30000 fits\n"
     ]
    },
    {
     "name": "stderr",
     "output_type": "stream",
     "text": [
      "C:\\ProgramData\\Anaconda3\\lib\\site-packages\\sklearn\\model_selection\\_search.py:922: UserWarning: One or more of the test scores are non-finite: [       nan 0.46842105 0.48502024 ... 0.36464238 0.36464238 0.36464238]\n",
      "  warnings.warn(\n"
     ]
    },
    {
     "name": "stdout",
     "output_type": "stream",
     "text": [
      "Best: 0.6045883940620783, using {'criterion': 'entropy', 'max_depth': 8, 'max_features': 'sqrt', 'min_samples_leaf': 1, 'min_samples_split': 2, 'n_estimators': 90}\n"
     ]
    },
    {
     "data": {
      "text/html": [
       "<div>\n",
       "<style scoped>\n",
       "    .dataframe tbody tr th:only-of-type {\n",
       "        vertical-align: middle;\n",
       "    }\n",
       "\n",
       "    .dataframe tbody tr th {\n",
       "        vertical-align: top;\n",
       "    }\n",
       "\n",
       "    .dataframe thead th {\n",
       "        text-align: right;\n",
       "    }\n",
       "</style>\n",
       "<table border=\"1\" class=\"dataframe\">\n",
       "  <thead>\n",
       "    <tr style=\"text-align: right;\">\n",
       "      <th></th>\n",
       "      <th>mean_fit_time</th>\n",
       "      <th>std_fit_time</th>\n",
       "      <th>mean_score_time</th>\n",
       "      <th>std_score_time</th>\n",
       "      <th>param_criterion</th>\n",
       "      <th>param_max_depth</th>\n",
       "      <th>param_max_features</th>\n",
       "      <th>param_min_samples_leaf</th>\n",
       "      <th>param_min_samples_split</th>\n",
       "      <th>param_n_estimators</th>\n",
       "      <th>params</th>\n",
       "      <th>split0_test_score</th>\n",
       "      <th>split1_test_score</th>\n",
       "      <th>split2_test_score</th>\n",
       "      <th>split3_test_score</th>\n",
       "      <th>split4_test_score</th>\n",
       "      <th>mean_test_score</th>\n",
       "      <th>std_test_score</th>\n",
       "      <th>rank_test_score</th>\n",
       "    </tr>\n",
       "  </thead>\n",
       "  <tbody>\n",
       "    <tr>\n",
       "      <th>0</th>\n",
       "      <td>0.003234</td>\n",
       "      <td>0.003510</td>\n",
       "      <td>0.000000</td>\n",
       "      <td>0.000000</td>\n",
       "      <td>gini</td>\n",
       "      <td>4</td>\n",
       "      <td>auto</td>\n",
       "      <td>1</td>\n",
       "      <td>2</td>\n",
       "      <td>0</td>\n",
       "      <td>{'criterion': 'gini', 'max_depth': 4, 'max_fea...</td>\n",
       "      <td>NaN</td>\n",
       "      <td>NaN</td>\n",
       "      <td>NaN</td>\n",
       "      <td>NaN</td>\n",
       "      <td>NaN</td>\n",
       "      <td>NaN</td>\n",
       "      <td>NaN</td>\n",
       "      <td>6000</td>\n",
       "    </tr>\n",
       "    <tr>\n",
       "      <th>1</th>\n",
       "      <td>0.042747</td>\n",
       "      <td>0.003933</td>\n",
       "      <td>0.000000</td>\n",
       "      <td>0.000000</td>\n",
       "      <td>gini</td>\n",
       "      <td>4</td>\n",
       "      <td>auto</td>\n",
       "      <td>1</td>\n",
       "      <td>2</td>\n",
       "      <td>10</td>\n",
       "      <td>{'criterion': 'gini', 'max_depth': 4, 'max_fea...</td>\n",
       "      <td>0.564103</td>\n",
       "      <td>0.435897</td>\n",
       "      <td>0.473684</td>\n",
       "      <td>0.500000</td>\n",
       "      <td>0.368421</td>\n",
       "      <td>0.468421</td>\n",
       "      <td>0.065173</td>\n",
       "      <td>2093</td>\n",
       "    </tr>\n",
       "    <tr>\n",
       "      <th>2</th>\n",
       "      <td>0.076508</td>\n",
       "      <td>0.004215</td>\n",
       "      <td>0.004025</td>\n",
       "      <td>0.004217</td>\n",
       "      <td>gini</td>\n",
       "      <td>4</td>\n",
       "      <td>auto</td>\n",
       "      <td>1</td>\n",
       "      <td>2</td>\n",
       "      <td>20</td>\n",
       "      <td>{'criterion': 'gini', 'max_depth': 4, 'max_fea...</td>\n",
       "      <td>0.410256</td>\n",
       "      <td>0.435897</td>\n",
       "      <td>0.500000</td>\n",
       "      <td>0.552632</td>\n",
       "      <td>0.526316</td>\n",
       "      <td>0.485020</td>\n",
       "      <td>0.053858</td>\n",
       "      <td>1593</td>\n",
       "    </tr>\n",
       "    <tr>\n",
       "      <th>3</th>\n",
       "      <td>0.106694</td>\n",
       "      <td>0.004232</td>\n",
       "      <td>0.006449</td>\n",
       "      <td>0.004484</td>\n",
       "      <td>gini</td>\n",
       "      <td>4</td>\n",
       "      <td>auto</td>\n",
       "      <td>1</td>\n",
       "      <td>2</td>\n",
       "      <td>30</td>\n",
       "      <td>{'criterion': 'gini', 'max_depth': 4, 'max_fea...</td>\n",
       "      <td>0.384615</td>\n",
       "      <td>0.435897</td>\n",
       "      <td>0.552632</td>\n",
       "      <td>0.500000</td>\n",
       "      <td>0.473684</td>\n",
       "      <td>0.469366</td>\n",
       "      <td>0.056909</td>\n",
       "      <td>1984</td>\n",
       "    </tr>\n",
       "    <tr>\n",
       "      <th>4</th>\n",
       "      <td>0.140596</td>\n",
       "      <td>0.001528</td>\n",
       "      <td>0.010082</td>\n",
       "      <td>0.000030</td>\n",
       "      <td>gini</td>\n",
       "      <td>4</td>\n",
       "      <td>auto</td>\n",
       "      <td>1</td>\n",
       "      <td>2</td>\n",
       "      <td>40</td>\n",
       "      <td>{'criterion': 'gini', 'max_depth': 4, 'max_fea...</td>\n",
       "      <td>0.435897</td>\n",
       "      <td>0.487179</td>\n",
       "      <td>0.578947</td>\n",
       "      <td>0.631579</td>\n",
       "      <td>0.605263</td>\n",
       "      <td>0.547773</td>\n",
       "      <td>0.074146</td>\n",
       "      <td>188</td>\n",
       "    </tr>\n",
       "  </tbody>\n",
       "</table>\n",
       "</div>"
      ],
      "text/plain": [
       "   mean_fit_time  std_fit_time  mean_score_time  std_score_time  \\\n",
       "0       0.003234      0.003510         0.000000        0.000000   \n",
       "1       0.042747      0.003933         0.000000        0.000000   \n",
       "2       0.076508      0.004215         0.004025        0.004217   \n",
       "3       0.106694      0.004232         0.006449        0.004484   \n",
       "4       0.140596      0.001528         0.010082        0.000030   \n",
       "\n",
       "  param_criterion param_max_depth param_max_features param_min_samples_leaf  \\\n",
       "0            gini               4               auto                      1   \n",
       "1            gini               4               auto                      1   \n",
       "2            gini               4               auto                      1   \n",
       "3            gini               4               auto                      1   \n",
       "4            gini               4               auto                      1   \n",
       "\n",
       "  param_min_samples_split param_n_estimators  \\\n",
       "0                       2                  0   \n",
       "1                       2                 10   \n",
       "2                       2                 20   \n",
       "3                       2                 30   \n",
       "4                       2                 40   \n",
       "\n",
       "                                              params  split0_test_score  \\\n",
       "0  {'criterion': 'gini', 'max_depth': 4, 'max_fea...                NaN   \n",
       "1  {'criterion': 'gini', 'max_depth': 4, 'max_fea...           0.564103   \n",
       "2  {'criterion': 'gini', 'max_depth': 4, 'max_fea...           0.410256   \n",
       "3  {'criterion': 'gini', 'max_depth': 4, 'max_fea...           0.384615   \n",
       "4  {'criterion': 'gini', 'max_depth': 4, 'max_fea...           0.435897   \n",
       "\n",
       "   split1_test_score  split2_test_score  split3_test_score  split4_test_score  \\\n",
       "0                NaN                NaN                NaN                NaN   \n",
       "1           0.435897           0.473684           0.500000           0.368421   \n",
       "2           0.435897           0.500000           0.552632           0.526316   \n",
       "3           0.435897           0.552632           0.500000           0.473684   \n",
       "4           0.487179           0.578947           0.631579           0.605263   \n",
       "\n",
       "   mean_test_score  std_test_score  rank_test_score  \n",
       "0              NaN             NaN             6000  \n",
       "1         0.468421        0.065173             2093  \n",
       "2         0.485020        0.053858             1593  \n",
       "3         0.469366        0.056909             1984  \n",
       "4         0.547773        0.074146              188  "
      ]
     },
     "execution_count": 117,
     "metadata": {},
     "output_type": "execute_result"
    }
   ],
   "source": [
    "model = RandomForestClassifier()\n",
    "param_grid = { \n",
    "    'n_estimators': [i for i in range(0,100, 10)],\n",
    "    'min_samples_leaf':[1,2,5,10],\n",
    "    'max_features': ['auto', 'sqrt', 'log2'],\n",
    "    'max_depth' : [4,5,6,7,8],\n",
    "    'criterion' :['gini', 'entropy'],\n",
    "    'min_samples_split':[2, 5, 10, 15, 100],\n",
    "    'min_samples_leaf':[1, 2, 5, 10] \n",
    "}\n",
    "\n",
    "\n",
    "\n",
    "gsearch_rfc = GridSearchCV(estimator = model,param_grid = param_grid, scoring='accuracy',n_jobs=-1, cv=str_kf, verbose = 1)\n",
    "\n",
    "gsearch_rfc.fit(cv_train, y_train)\n",
    "\n",
    "print(f'Best: {gsearch_rfc.best_score_}, using {gsearch_rfc.best_params_}')\n",
    "results_df = pd.DataFrame(gsearch_rfc.cv_results_)\n",
    "results_df.head()"
   ]
  },
  {
   "cell_type": "code",
   "execution_count": 136,
   "id": "3f52e9e2",
   "metadata": {},
   "outputs": [],
   "source": [
    "tune_rfc = gsearch_rfc.best_estimator_"
   ]
  },
  {
   "cell_type": "code",
   "execution_count": 135,
   "id": "b35e2999",
   "metadata": {},
   "outputs": [
    {
     "data": {
      "text/plain": [
       "0.6045883940620783"
      ]
     },
     "execution_count": 135,
     "metadata": {},
     "output_type": "execute_result"
    }
   ],
   "source": [
    "gsearch_rfc.best_score_"
   ]
  },
  {
   "cell_type": "code",
   "execution_count": 120,
   "id": "11391089",
   "metadata": {},
   "outputs": [
    {
     "data": {
      "text/plain": [
       "{'criterion': 'entropy',\n",
       " 'max_depth': 8,\n",
       " 'max_features': 'sqrt',\n",
       " 'min_samples_leaf': 1,\n",
       " 'min_samples_split': 2,\n",
       " 'n_estimators': 90}"
      ]
     },
     "execution_count": 120,
     "metadata": {},
     "output_type": "execute_result"
    }
   ],
   "source": [
    "gsearch_rfc.best_params_"
   ]
  },
  {
   "cell_type": "code",
   "execution_count": 103,
   "id": "d0a4925b",
   "metadata": {},
   "outputs": [],
   "source": [
    "tune_rfc = RandomForestClassifier(criterion='entropy', max_depth=8, max_features='sqrt', min_samples_leaf=1, min_samples_split=2, n_estimators = 90)\n",
    "\n",
    "#tune_rfc = RandomForestClassifier(criterion='entropy', max_depth=6, max_features='sqrt', min_samples_leaf=1, min_samples_split=5)"
   ]
  },
  {
   "cell_type": "code",
   "execution_count": 123,
   "id": "260f7221",
   "metadata": {},
   "outputs": [],
   "source": [
    "scaled_val = scaler.transform(cv.transform(X_test).toarray())"
   ]
  },
  {
   "cell_type": "code",
   "execution_count": 124,
   "id": "13319bb0",
   "metadata": {},
   "outputs": [],
   "source": [
    "scaled_test = scaler.transform(cv.transform(test['NewsText']).toarray())"
   ]
  },
  {
   "cell_type": "code",
   "execution_count": 138,
   "id": "e4b4757f",
   "metadata": {},
   "outputs": [
    {
     "data": {
      "text/plain": [
       "array([[-0.11867817, -0.07235746, -0.10259784, ..., -0.07235746,\n",
       "        -0.14586499, -0.07235746],\n",
       "       [-0.11867817, -0.07235746, -0.10259784, ..., -0.07235746,\n",
       "        -0.14586499, -0.07235746],\n",
       "       [-0.11867817, -0.07235746, -0.10259784, ..., -0.07235746,\n",
       "        -0.14586499, -0.07235746],\n",
       "       ...,\n",
       "       [-0.11867817, -0.07235746, -0.10259784, ..., -0.07235746,\n",
       "        -0.14586499, -0.07235746],\n",
       "       [-0.11867817, -0.07235746, -0.10259784, ..., -0.07235746,\n",
       "        -0.14586499, -0.07235746],\n",
       "       [-0.11867817, -0.07235746, -0.10259784, ..., -0.07235746,\n",
       "        -0.14586499, -0.07235746]])"
      ]
     },
     "execution_count": 138,
     "metadata": {},
     "output_type": "execute_result"
    }
   ],
   "source": [
    "scaled_val"
   ]
  },
  {
   "cell_type": "code",
   "execution_count": 126,
   "id": "49b86802",
   "metadata": {},
   "outputs": [
    {
     "name": "stdout",
     "output_type": "stream",
     "text": [
      "Train Accuracy:  0.8431372549019608\n",
      "Validation Accuracy:  0.38461538461538464\n",
      "Test Accuracy Score :  0.5416666666666666\n",
      "______________\n",
      "\n",
      "Test has been Scored\n",
      "______________\n",
      "\n",
      "Train Accuracy:  0.8300653594771242\n",
      "Validation Accuracy:  0.5897435897435898\n",
      "Test Accuracy Score :  0.5208333333333334\n",
      "______________\n",
      "\n",
      "Test has been Scored\n",
      "______________\n",
      "\n",
      "Train Accuracy:  0.8246753246753247\n",
      "Validation Accuracy:  0.42105263157894735\n",
      "Test Accuracy Score :  0.5625\n",
      "______________\n",
      "\n",
      "Test has been Scored\n",
      "______________\n",
      "\n",
      "Train Accuracy:  0.8051948051948052\n",
      "Validation Accuracy:  0.47368421052631576\n",
      "Test Accuracy Score :  0.4583333333333333\n",
      "______________\n",
      "\n",
      "Test has been Scored\n",
      "______________\n",
      "\n",
      "Train Accuracy:  0.8636363636363636\n",
      "Validation Accuracy:  0.6578947368421053\n",
      "Test Accuracy Score :  0.5\n",
      "______________\n",
      "\n",
      "Test has been Scored\n",
      "______________\n",
      "\n",
      "Train Accuracy:  0.7908496732026143\n",
      "Validation Accuracy:  0.5384615384615384\n",
      "Test Accuracy Score :  0.5625\n",
      "______________\n",
      "\n",
      "Test has been Scored\n",
      "______________\n",
      "\n",
      "Train Accuracy:  0.803921568627451\n",
      "Validation Accuracy:  0.46153846153846156\n",
      "Test Accuracy Score :  0.5208333333333334\n",
      "______________\n",
      "\n",
      "Test has been Scored\n",
      "______________\n",
      "\n",
      "Train Accuracy:  0.8441558441558441\n",
      "Validation Accuracy:  0.5789473684210527\n",
      "Test Accuracy Score :  0.4583333333333333\n",
      "______________\n",
      "\n",
      "Test has been Scored\n",
      "______________\n",
      "\n",
      "Train Accuracy:  0.8376623376623377\n",
      "Validation Accuracy:  0.5526315789473685\n",
      "Test Accuracy Score :  0.5208333333333334\n",
      "______________\n",
      "\n",
      "Test has been Scored\n",
      "______________\n",
      "\n",
      "Train Accuracy:  0.8376623376623377\n",
      "Validation Accuracy:  0.6052631578947368\n",
      "Test Accuracy Score :  0.5208333333333334\n",
      "______________\n",
      "\n",
      "Test has been Scored\n",
      "______________\n",
      "\n",
      "Train Accuracy:  0.8300653594771242\n",
      "Validation Accuracy:  0.38461538461538464\n",
      "Test Accuracy Score :  0.4791666666666667\n",
      "______________\n",
      "\n",
      "Test has been Scored\n",
      "______________\n",
      "\n",
      "Train Accuracy:  0.7777777777777778\n",
      "Validation Accuracy:  0.6923076923076923\n",
      "Test Accuracy Score :  0.5\n",
      "______________\n",
      "\n",
      "Test has been Scored\n",
      "______________\n",
      "\n",
      "Train Accuracy:  0.8376623376623377\n",
      "Validation Accuracy:  0.42105263157894735\n",
      "Test Accuracy Score :  0.4583333333333333\n",
      "______________\n",
      "\n",
      "Test has been Scored\n",
      "______________\n",
      "\n",
      "Train Accuracy:  0.8636363636363636\n",
      "Validation Accuracy:  0.5789473684210527\n",
      "Test Accuracy Score :  0.625\n",
      "______________\n",
      "\n",
      "Test has been Scored\n",
      "______________\n",
      "\n",
      "Train Accuracy:  0.8376623376623377\n",
      "Validation Accuracy:  0.5526315789473685\n",
      "Test Accuracy Score :  0.5\n",
      "______________\n",
      "\n",
      "Test has been Scored\n",
      "______________\n",
      "\n",
      "Training Mean ROC AUC Score 0.8285176696941403\n",
      "Validation Mean ROC AUC Score 0.5262258209626631\n",
      "Test Mean ROC AUC Score 0.5152777777777777\n"
     ]
    }
   ],
   "source": [
    "cv_score=[]\n",
    "test_pred=[]\n",
    "train_score=[]\n",
    "cv_model_store=[]# - uo\n",
    "\n",
    "sub_pred = []\n",
    "\n",
    "fold= skf\n",
    "X = pd.DataFrame(cv_train)\n",
    "yy = y_train\n",
    "Xtest = pd.DataFrame(scaled_val) \n",
    "yytest = y_test\n",
    "\n",
    "ttest = scaled_test\n",
    "\n",
    "for train_index, test_index in fold.split(X,pd.Series(yy)):\n",
    "    X_trainx, X_val = X.iloc[train_index], X.iloc[test_index]\n",
    "    y_trainx, y_val = pd.Series(yy).iloc[train_index], pd.Series(yy).iloc[test_index]\n",
    "    \n",
    "    tune_rfc.fit(X_trainx,y_trainx)\n",
    "    cv_model_store.append(tune_rfc)\n",
    "    train_preds=tune_rfc.predict(X_trainx)\n",
    "    print(\"Train Accuracy: \",accuracy_score(y_trainx,train_preds))\n",
    "    train_score.append(accuracy_score(y_trainx,train_preds))\n",
    "    \n",
    "    val_preds=tune_rfc.predict(X_val)\n",
    "    print(\"Validation Accuracy: \",accuracy_score(y_val,val_preds))\n",
    "    cv_score.append(accuracy_score(y_val,val_preds))\n",
    "    \n",
    "    test_p = tune_rfc.predict(Xtest)\n",
    "    print(\"Test Accuracy Score : \",accuracy_score(yytest ,test_p))\n",
    "    print(\"______________\\n\")\n",
    "    test_pred.append(accuracy_score(yytest ,test_p))\n",
    "    \n",
    "    tested = tune_rfc.predict_proba(ttest)\n",
    "    print(\"Test has been Scored\")\n",
    "    print(\"______________\\n\")\n",
    "    sub_pred.append(tested)\n",
    "\n",
    "print(f'Training Mean ROC AUC Score {np.mean(train_score)}')\n",
    "print(f'Validation Mean ROC AUC Score {np.mean(cv_score)}')\n",
    "print(f'Test Mean ROC AUC Score {np.mean(test_pred)}')"
   ]
  },
  {
   "cell_type": "code",
   "execution_count": null,
   "id": "72683e23",
   "metadata": {},
   "outputs": [],
   "source": []
  },
  {
   "cell_type": "code",
   "execution_count": null,
   "id": "58abe83b",
   "metadata": {},
   "outputs": [],
   "source": []
  },
  {
   "cell_type": "code",
   "execution_count": null,
   "id": "35f78162",
   "metadata": {},
   "outputs": [],
   "source": []
  },
  {
   "cell_type": "code",
   "execution_count": null,
   "id": "96e50026",
   "metadata": {},
   "outputs": [],
   "source": []
  },
  {
   "cell_type": "code",
   "execution_count": null,
   "id": "fe82e2eb",
   "metadata": {},
   "outputs": [],
   "source": []
  },
  {
   "cell_type": "code",
   "execution_count": null,
   "id": "14f34f8f",
   "metadata": {},
   "outputs": [],
   "source": []
  },
  {
   "cell_type": "code",
   "execution_count": null,
   "id": "1c65d1db",
   "metadata": {},
   "outputs": [],
   "source": []
  },
  {
   "cell_type": "code",
   "execution_count": 127,
   "id": "bb365e46",
   "metadata": {},
   "outputs": [],
   "source": [
    "value = (np.sum(sub_pred, axis = 0))/15"
   ]
  },
  {
   "cell_type": "code",
   "execution_count": 128,
   "id": "4dceceda",
   "metadata": {},
   "outputs": [],
   "source": [
    "val = np.argmax(value, axis = 1)"
   ]
  },
  {
   "cell_type": "code",
   "execution_count": 129,
   "id": "9555ed7f",
   "metadata": {},
   "outputs": [],
   "source": [
    "pred = transform(val, details = 'decode')"
   ]
  },
  {
   "cell_type": "code",
   "execution_count": 130,
   "id": "46d6d370",
   "metadata": {},
   "outputs": [
    {
     "data": {
      "text/plain": [
       " 1    37\n",
       "-1    21\n",
       " 0     2\n",
       "dtype: int64"
      ]
     },
     "execution_count": 130,
     "metadata": {},
     "output_type": "execute_result"
    }
   ],
   "source": [
    "pd.Series(pred).value_counts()"
   ]
  },
  {
   "cell_type": "code",
   "execution_count": 131,
   "id": "f28fbfc3",
   "metadata": {},
   "outputs": [],
   "source": [
    "test['label'] = pred"
   ]
  },
  {
   "cell_type": "code",
   "execution_count": 132,
   "id": "0a3fcf3b",
   "metadata": {},
   "outputs": [],
   "source": [
    "sub = test[['id', 'label']]"
   ]
  },
  {
   "cell_type": "code",
   "execution_count": 133,
   "id": "11c4e1ad",
   "metadata": {},
   "outputs": [
    {
     "data": {
      "text/plain": [
       " 1    37\n",
       "-1    21\n",
       " 0     2\n",
       "Name: label, dtype: int64"
      ]
     },
     "execution_count": 133,
     "metadata": {},
     "output_type": "execute_result"
    }
   ],
   "source": [
    "sub['label'].value_counts()"
   ]
  },
  {
   "cell_type": "code",
   "execution_count": 134,
   "id": "16fcc1f4",
   "metadata": {},
   "outputs": [],
   "source": [
    "sub.to_csv('new_model.csv', index = False)"
   ]
  },
  {
   "cell_type": "code",
   "execution_count": null,
   "id": "e64953d6",
   "metadata": {},
   "outputs": [],
   "source": []
  }
 ],
 "metadata": {
  "kernelspec": {
   "display_name": "Python 3 (ipykernel)",
   "language": "python",
   "name": "python3"
  },
  "language_info": {
   "codemirror_mode": {
    "name": "ipython",
    "version": 3
   },
   "file_extension": ".py",
   "mimetype": "text/x-python",
   "name": "python",
   "nbconvert_exporter": "python",
   "pygments_lexer": "ipython3",
   "version": "3.9.7"
  }
 },
 "nbformat": 4,
 "nbformat_minor": 5
}
